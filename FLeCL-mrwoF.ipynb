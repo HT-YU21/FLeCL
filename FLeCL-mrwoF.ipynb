{
 "cells": [
  {
   "cell_type": "code",
   "execution_count": 1,
   "id": "240134c6",
   "metadata": {},
   "outputs": [
    {
     "name": "stdout",
     "output_type": "stream",
     "text": [
      "Found GPU at: /device:GPU:0\n"
     ]
    }
   ],
   "source": [
    "import tensorflow as tf\n",
    "\n",
    "# Get the GPU device name.\n",
    "device_name = tf.test.gpu_device_name()\n",
    "\n",
    "# The device name should look like the following:\n",
    "if device_name == '/device:GPU:0':\n",
    "    print('Found GPU at: {}'.format(device_name))\n",
    "else:\n",
    "    print('GPU device not found')"
   ]
  },
  {
   "cell_type": "code",
   "execution_count": 2,
   "id": "b9cf5bea",
   "metadata": {},
   "outputs": [
    {
     "name": "stdout",
     "output_type": "stream",
     "text": [
      "There are 1 GPU(s) available.\n",
      "We will use the GPU: NVIDIA GeForce GTX 1080 Ti\n"
     ]
    }
   ],
   "source": [
    "import torch\n",
    "\n",
    "# If there's a GPU available...\n",
    "if torch.cuda.is_available():    \n",
    "\n",
    "    # Tell PyTorch to use the GPU.    \n",
    "    device = torch.device(\"cuda\")\n",
    "\n",
    "    print('There are %d GPU(s) available.' % torch.cuda.device_count())\n",
    "\n",
    "    print('We will use the GPU:', torch.cuda.get_device_name(0))\n",
    "\n",
    "# If not...\n",
    "else:\n",
    "    print('No GPU available, using the CPU instead.')\n",
    "    device = torch.device(\"cpu\")"
   ]
  },
  {
   "cell_type": "code",
   "execution_count": 3,
   "id": "28fa7325",
   "metadata": {},
   "outputs": [],
   "source": [
    "import pandas as pd"
   ]
  },
  {
   "cell_type": "code",
   "execution_count": 4,
   "id": "b786a575-51de-4f99-ac9d-f531042f818b",
   "metadata": {},
   "outputs": [],
   "source": [
    "from numpy.random import RandomState\n",
    "#%% Split whole dataset into train and valid set\n",
    "df = pd.read_csv('mr/mr.csv', encoding='unicode_escape', header=0)\n",
    "#df.drop(['Cleanedreview'],axis=1,inplace=True)\n",
    "#df.to_csv('mr/train-sst5.csv', index=False)\n",
    "rng = RandomState()\n",
    "\n",
    "train = df.sample(frac=0.9, random_state=rng)\n",
    "test = df.loc[~df.index.isin(train.index)]\n",
    "train.to_csv('mr/train-mr.csv', index=False)\n",
    "test.to_csv('mr/test-mr.csv', index=False)"
   ]
  },
  {
   "cell_type": "code",
   "execution_count": 5,
   "id": "b8d4e8dc",
   "metadata": {},
   "outputs": [],
   "source": [
    "train_df = pd.read_csv(\"mr/train-mr.csv\", encoding='unicode_escape', header=0)"
   ]
  },
  {
   "cell_type": "code",
   "execution_count": 6,
   "id": "85d602a7",
   "metadata": {},
   "outputs": [
    {
     "data": {
      "text/html": [
       "<div>\n",
       "<style scoped>\n",
       "    .dataframe tbody tr th:only-of-type {\n",
       "        vertical-align: middle;\n",
       "    }\n",
       "\n",
       "    .dataframe tbody tr th {\n",
       "        vertical-align: top;\n",
       "    }\n",
       "\n",
       "    .dataframe thead th {\n",
       "        text-align: right;\n",
       "    }\n",
       "</style>\n",
       "<table border=\"1\" class=\"dataframe\">\n",
       "  <thead>\n",
       "    <tr style=\"text-align: right;\">\n",
       "      <th></th>\n",
       "      <th>sentiment</th>\n",
       "      <th>review</th>\n",
       "    </tr>\n",
       "  </thead>\n",
       "  <tbody>\n",
       "    <tr>\n",
       "      <th>0</th>\n",
       "      <td>1</td>\n",
       "      <td>the magic of the film lies not in the mysterio...</td>\n",
       "    </tr>\n",
       "    <tr>\n",
       "      <th>1</th>\n",
       "      <td>1</td>\n",
       "      <td>morvern callar confirms lynne ramsay as an imp...</td>\n",
       "    </tr>\n",
       "    <tr>\n",
       "      <th>2</th>\n",
       "      <td>1</td>\n",
       "      <td>'writer-director's mehta's effort has tons of ...</td>\n",
       "    </tr>\n",
       "    <tr>\n",
       "      <th>3</th>\n",
       "      <td>1</td>\n",
       "      <td>this is art paying homage to art .</td>\n",
       "    </tr>\n",
       "    <tr>\n",
       "      <th>4</th>\n",
       "      <td>1</td>\n",
       "      <td>is this love or is it masochism ? binoche make...</td>\n",
       "    </tr>\n",
       "    <tr>\n",
       "      <th>...</th>\n",
       "      <td>...</td>\n",
       "      <td>...</td>\n",
       "    </tr>\n",
       "    <tr>\n",
       "      <th>9427</th>\n",
       "      <td>0</td>\n",
       "      <td>'there is an almost poignant dimension to the ...</td>\n",
       "    </tr>\n",
       "    <tr>\n",
       "      <th>9428</th>\n",
       "      <td>1</td>\n",
       "      <td>'light , cute and forgettable . '</td>\n",
       "    </tr>\n",
       "    <tr>\n",
       "      <th>9429</th>\n",
       "      <td>1</td>\n",
       "      <td>'the movie ultimately relies a bit too heavily...</td>\n",
       "    </tr>\n",
       "    <tr>\n",
       "      <th>9430</th>\n",
       "      <td>0</td>\n",
       "      <td>these people wouldn't know subtle characteriza...</td>\n",
       "    </tr>\n",
       "    <tr>\n",
       "      <th>9431</th>\n",
       "      <td>1</td>\n",
       "      <td>'beresford nicely mixes in as much humor as pa...</td>\n",
       "    </tr>\n",
       "  </tbody>\n",
       "</table>\n",
       "<p>9432 rows × 2 columns</p>\n",
       "</div>"
      ],
      "text/plain": [
       "      sentiment                                             review\n",
       "0             1  the magic of the film lies not in the mysterio...\n",
       "1             1  morvern callar confirms lynne ramsay as an imp...\n",
       "2             1  'writer-director's mehta's effort has tons of ...\n",
       "3             1                this is art paying homage to art . \n",
       "4             1  is this love or is it masochism ? binoche make...\n",
       "...         ...                                                ...\n",
       "9427          0  'there is an almost poignant dimension to the ...\n",
       "9428          1                  'light , cute and forgettable . '\n",
       "9429          1  'the movie ultimately relies a bit too heavily...\n",
       "9430          0  these people wouldn't know subtle characteriza...\n",
       "9431          1  'beresford nicely mixes in as much humor as pa...\n",
       "\n",
       "[9432 rows x 2 columns]"
      ]
     },
     "execution_count": 6,
     "metadata": {},
     "output_type": "execute_result"
    }
   ],
   "source": [
    "train_df"
   ]
  },
  {
   "cell_type": "code",
   "execution_count": 7,
   "id": "cef49628",
   "metadata": {},
   "outputs": [
    {
     "name": "stderr",
     "output_type": "stream",
     "text": [
      "C:\\Users\\huyen\\AppData\\Local\\Temp\\ipykernel_3224\\1864895821.py:1: FutureWarning: Series.__getitem__ treating keys as positions is deprecated. In a future version, integer keys will always be treated as labels (consistent with DataFrame behavior). To access a value by position, use `ser.iloc[pos]`\n",
      "  train_df.iloc[0][1]\n"
     ]
    },
    {
     "data": {
      "text/plain": [
       "'the magic of the film lies not in the mysterious spring but in the richness of its performances . '"
      ]
     },
     "execution_count": 7,
     "metadata": {},
     "output_type": "execute_result"
    }
   ],
   "source": [
    "train_df.iloc[0][1]"
   ]
  },
  {
   "cell_type": "code",
   "execution_count": 8,
   "id": "152544c0",
   "metadata": {},
   "outputs": [],
   "source": [
    "test_df = pd.read_csv(\"mr/test-mr.csv\", encoding='unicode_escape', header=0)"
   ]
  },
  {
   "cell_type": "code",
   "execution_count": 9,
   "id": "c17735fd",
   "metadata": {},
   "outputs": [
    {
     "data": {
      "text/plain": [
       "(1048, 2)"
      ]
     },
     "execution_count": 9,
     "metadata": {},
     "output_type": "execute_result"
    }
   ],
   "source": [
    "test_df.shape"
   ]
  },
  {
   "cell_type": "code",
   "execution_count": 10,
   "id": "7431f993",
   "metadata": {},
   "outputs": [
    {
     "data": {
      "text/html": [
       "<div>\n",
       "<style scoped>\n",
       "    .dataframe tbody tr th:only-of-type {\n",
       "        vertical-align: middle;\n",
       "    }\n",
       "\n",
       "    .dataframe tbody tr th {\n",
       "        vertical-align: top;\n",
       "    }\n",
       "\n",
       "    .dataframe thead th {\n",
       "        text-align: right;\n",
       "    }\n",
       "</style>\n",
       "<table border=\"1\" class=\"dataframe\">\n",
       "  <thead>\n",
       "    <tr style=\"text-align: right;\">\n",
       "      <th></th>\n",
       "      <th>sentiment</th>\n",
       "      <th>review</th>\n",
       "    </tr>\n",
       "  </thead>\n",
       "  <tbody>\n",
       "    <tr>\n",
       "      <th>0</th>\n",
       "      <td>1</td>\n",
       "      <td>'the movie is amateurish , but it's a minor tr...</td>\n",
       "    </tr>\n",
       "    <tr>\n",
       "      <th>1</th>\n",
       "      <td>1</td>\n",
       "      <td>absorbing character study by andr? turpin .</td>\n",
       "    </tr>\n",
       "    <tr>\n",
       "      <th>2</th>\n",
       "      <td>1</td>\n",
       "      <td>a film of precious increments artfully camoufl...</td>\n",
       "    </tr>\n",
       "    <tr>\n",
       "      <th>3</th>\n",
       "      <td>1</td>\n",
       "      <td>'for those who are intrigued by politics of th...</td>\n",
       "    </tr>\n",
       "    <tr>\n",
       "      <th>4</th>\n",
       "      <td>1</td>\n",
       "      <td>the first half bursts with a goofy energy prev...</td>\n",
       "    </tr>\n",
       "  </tbody>\n",
       "</table>\n",
       "</div>"
      ],
      "text/plain": [
       "   sentiment                                             review\n",
       "0          1  'the movie is amateurish , but it's a minor tr...\n",
       "1          1       absorbing character study by andr? turpin . \n",
       "2          1  a film of precious increments artfully camoufl...\n",
       "3          1  'for those who are intrigued by politics of th...\n",
       "4          1  the first half bursts with a goofy energy prev..."
      ]
     },
     "execution_count": 10,
     "metadata": {},
     "output_type": "execute_result"
    }
   ],
   "source": [
    "test_df.head()"
   ]
  },
  {
   "cell_type": "code",
   "execution_count": 11,
   "id": "98602c10-1578-43eb-bfb4-78b165358d27",
   "metadata": {},
   "outputs": [
    {
     "data": {
      "text/html": [
       "<div>\n",
       "<style scoped>\n",
       "    .dataframe tbody tr th:only-of-type {\n",
       "        vertical-align: middle;\n",
       "    }\n",
       "\n",
       "    .dataframe tbody tr th {\n",
       "        vertical-align: top;\n",
       "    }\n",
       "\n",
       "    .dataframe thead th {\n",
       "        text-align: right;\n",
       "    }\n",
       "</style>\n",
       "<table border=\"1\" class=\"dataframe\">\n",
       "  <thead>\n",
       "    <tr style=\"text-align: right;\">\n",
       "      <th></th>\n",
       "      <th>sentiment</th>\n",
       "      <th>review</th>\n",
       "    </tr>\n",
       "  </thead>\n",
       "  <tbody>\n",
       "    <tr>\n",
       "      <th>0</th>\n",
       "      <td>1</td>\n",
       "      <td>'the movie is amateurish , but it's a minor tr...</td>\n",
       "    </tr>\n",
       "    <tr>\n",
       "      <th>1</th>\n",
       "      <td>1</td>\n",
       "      <td>absorbing character study by andr? turpin .</td>\n",
       "    </tr>\n",
       "    <tr>\n",
       "      <th>2</th>\n",
       "      <td>1</td>\n",
       "      <td>a film of precious increments artfully camoufl...</td>\n",
       "    </tr>\n",
       "    <tr>\n",
       "      <th>3</th>\n",
       "      <td>1</td>\n",
       "      <td>'for those who are intrigued by politics of th...</td>\n",
       "    </tr>\n",
       "    <tr>\n",
       "      <th>4</th>\n",
       "      <td>1</td>\n",
       "      <td>the first half bursts with a goofy energy prev...</td>\n",
       "    </tr>\n",
       "    <tr>\n",
       "      <th>...</th>\n",
       "      <td>...</td>\n",
       "      <td>...</td>\n",
       "    </tr>\n",
       "    <tr>\n",
       "      <th>1043</th>\n",
       "      <td>0</td>\n",
       "      <td>a trite psychological thriller designed to kee...</td>\n",
       "    </tr>\n",
       "    <tr>\n",
       "      <th>1044</th>\n",
       "      <td>0</td>\n",
       "      <td>fails as a dystopian movie , as a retooling of...</td>\n",
       "    </tr>\n",
       "    <tr>\n",
       "      <th>1045</th>\n",
       "      <td>0</td>\n",
       "      <td>bearable . barely .</td>\n",
       "    </tr>\n",
       "    <tr>\n",
       "      <th>1046</th>\n",
       "      <td>0</td>\n",
       "      <td>reeboir varies between a sweet smile and an an...</td>\n",
       "    </tr>\n",
       "    <tr>\n",
       "      <th>1047</th>\n",
       "      <td>0</td>\n",
       "      <td>a kilted jackson is an unsettling sight , and ...</td>\n",
       "    </tr>\n",
       "  </tbody>\n",
       "</table>\n",
       "<p>1048 rows × 2 columns</p>\n",
       "</div>"
      ],
      "text/plain": [
       "      sentiment                                             review\n",
       "0             1  'the movie is amateurish , but it's a minor tr...\n",
       "1             1       absorbing character study by andr? turpin . \n",
       "2             1  a film of precious increments artfully camoufl...\n",
       "3             1  'for those who are intrigued by politics of th...\n",
       "4             1  the first half bursts with a goofy energy prev...\n",
       "...         ...                                                ...\n",
       "1043          0  a trite psychological thriller designed to kee...\n",
       "1044          0  fails as a dystopian movie , as a retooling of...\n",
       "1045          0                               bearable . barely . \n",
       "1046          0  reeboir varies between a sweet smile and an an...\n",
       "1047          0  a kilted jackson is an unsettling sight , and ...\n",
       "\n",
       "[1048 rows x 2 columns]"
      ]
     },
     "execution_count": 11,
     "metadata": {},
     "output_type": "execute_result"
    }
   ],
   "source": [
    "test_df"
   ]
  },
  {
   "cell_type": "code",
   "execution_count": 12,
   "id": "67710abf",
   "metadata": {},
   "outputs": [
    {
     "data": {
      "text/html": [
       "<div>\n",
       "<style scoped>\n",
       "    .dataframe tbody tr th:only-of-type {\n",
       "        vertical-align: middle;\n",
       "    }\n",
       "\n",
       "    .dataframe tbody tr th {\n",
       "        vertical-align: top;\n",
       "    }\n",
       "\n",
       "    .dataframe thead th {\n",
       "        text-align: right;\n",
       "    }\n",
       "</style>\n",
       "<table border=\"1\" class=\"dataframe\">\n",
       "  <thead>\n",
       "    <tr style=\"text-align: right;\">\n",
       "      <th></th>\n",
       "      <th>id</th>\n",
       "      <th>label</th>\n",
       "      <th>sentence</th>\n",
       "    </tr>\n",
       "  </thead>\n",
       "  <tbody>\n",
       "    <tr>\n",
       "      <th>0</th>\n",
       "      <td>0</td>\n",
       "      <td>1</td>\n",
       "      <td>the magic of the film lies not in the mysterio...</td>\n",
       "    </tr>\n",
       "    <tr>\n",
       "      <th>1</th>\n",
       "      <td>1</td>\n",
       "      <td>1</td>\n",
       "      <td>morvern callar confirms lynne ramsay as an imp...</td>\n",
       "    </tr>\n",
       "    <tr>\n",
       "      <th>2</th>\n",
       "      <td>2</td>\n",
       "      <td>1</td>\n",
       "      <td>'writer-director's mehta's effort has tons of ...</td>\n",
       "    </tr>\n",
       "    <tr>\n",
       "      <th>3</th>\n",
       "      <td>3</td>\n",
       "      <td>1</td>\n",
       "      <td>this is art paying homage to art .</td>\n",
       "    </tr>\n",
       "    <tr>\n",
       "      <th>4</th>\n",
       "      <td>4</td>\n",
       "      <td>1</td>\n",
       "      <td>is this love or is it masochism ? binoche make...</td>\n",
       "    </tr>\n",
       "  </tbody>\n",
       "</table>\n",
       "</div>"
      ],
      "text/plain": [
       "   id  label                                           sentence\n",
       "0   0      1  the magic of the film lies not in the mysterio...\n",
       "1   1      1  morvern callar confirms lynne ramsay as an imp...\n",
       "2   2      1  'writer-director's mehta's effort has tons of ...\n",
       "3   3      1                this is art paying homage to art . \n",
       "4   4      1  is this love or is it masochism ? binoche make..."
      ]
     },
     "execution_count": 12,
     "metadata": {},
     "output_type": "execute_result"
    }
   ],
   "source": [
    "train_df_bert = pd.DataFrame({\n",
    "    \"id\": range(len(train_df)),\n",
    "    \"label\": train_df['sentiment'],\n",
    "    \"sentence\": train_df['review'].replace(r'\\n', ' ', regex=True)\n",
    "})\n",
    "\n",
    "train_df_bert.head()"
   ]
  },
  {
   "cell_type": "code",
   "execution_count": 13,
   "id": "31f1f193",
   "metadata": {},
   "outputs": [
    {
     "data": {
      "text/html": [
       "<div>\n",
       "<style scoped>\n",
       "    .dataframe tbody tr th:only-of-type {\n",
       "        vertical-align: middle;\n",
       "    }\n",
       "\n",
       "    .dataframe tbody tr th {\n",
       "        vertical-align: top;\n",
       "    }\n",
       "\n",
       "    .dataframe thead th {\n",
       "        text-align: right;\n",
       "    }\n",
       "</style>\n",
       "<table border=\"1\" class=\"dataframe\">\n",
       "  <thead>\n",
       "    <tr style=\"text-align: right;\">\n",
       "      <th></th>\n",
       "      <th>id</th>\n",
       "      <th>label</th>\n",
       "      <th>sentence</th>\n",
       "    </tr>\n",
       "  </thead>\n",
       "  <tbody>\n",
       "    <tr>\n",
       "      <th>0</th>\n",
       "      <td>0</td>\n",
       "      <td>1</td>\n",
       "      <td>the magic of the film lies not in the mysterio...</td>\n",
       "    </tr>\n",
       "    <tr>\n",
       "      <th>1</th>\n",
       "      <td>1</td>\n",
       "      <td>1</td>\n",
       "      <td>morvern callar confirms lynne ramsay as an imp...</td>\n",
       "    </tr>\n",
       "    <tr>\n",
       "      <th>2</th>\n",
       "      <td>2</td>\n",
       "      <td>1</td>\n",
       "      <td>'writer-director's mehta's effort has tons of ...</td>\n",
       "    </tr>\n",
       "    <tr>\n",
       "      <th>3</th>\n",
       "      <td>3</td>\n",
       "      <td>1</td>\n",
       "      <td>this is art paying homage to art .</td>\n",
       "    </tr>\n",
       "    <tr>\n",
       "      <th>4</th>\n",
       "      <td>4</td>\n",
       "      <td>1</td>\n",
       "      <td>is this love or is it masochism ? binoche make...</td>\n",
       "    </tr>\n",
       "    <tr>\n",
       "      <th>...</th>\n",
       "      <td>...</td>\n",
       "      <td>...</td>\n",
       "      <td>...</td>\n",
       "    </tr>\n",
       "    <tr>\n",
       "      <th>9427</th>\n",
       "      <td>9427</td>\n",
       "      <td>0</td>\n",
       "      <td>'there is an almost poignant dimension to the ...</td>\n",
       "    </tr>\n",
       "    <tr>\n",
       "      <th>9428</th>\n",
       "      <td>9428</td>\n",
       "      <td>1</td>\n",
       "      <td>'light , cute and forgettable . '</td>\n",
       "    </tr>\n",
       "    <tr>\n",
       "      <th>9429</th>\n",
       "      <td>9429</td>\n",
       "      <td>1</td>\n",
       "      <td>'the movie ultimately relies a bit too heavily...</td>\n",
       "    </tr>\n",
       "    <tr>\n",
       "      <th>9430</th>\n",
       "      <td>9430</td>\n",
       "      <td>0</td>\n",
       "      <td>these people wouldn't know subtle characteriza...</td>\n",
       "    </tr>\n",
       "    <tr>\n",
       "      <th>9431</th>\n",
       "      <td>9431</td>\n",
       "      <td>1</td>\n",
       "      <td>'beresford nicely mixes in as much humor as pa...</td>\n",
       "    </tr>\n",
       "  </tbody>\n",
       "</table>\n",
       "<p>9432 rows × 3 columns</p>\n",
       "</div>"
      ],
      "text/plain": [
       "        id  label                                           sentence\n",
       "0        0      1  the magic of the film lies not in the mysterio...\n",
       "1        1      1  morvern callar confirms lynne ramsay as an imp...\n",
       "2        2      1  'writer-director's mehta's effort has tons of ...\n",
       "3        3      1                this is art paying homage to art . \n",
       "4        4      1  is this love or is it masochism ? binoche make...\n",
       "...    ...    ...                                                ...\n",
       "9427  9427      0  'there is an almost poignant dimension to the ...\n",
       "9428  9428      1                  'light , cute and forgettable . '\n",
       "9429  9429      1  'the movie ultimately relies a bit too heavily...\n",
       "9430  9430      0  these people wouldn't know subtle characteriza...\n",
       "9431  9431      1  'beresford nicely mixes in as much humor as pa...\n",
       "\n",
       "[9432 rows x 3 columns]"
      ]
     },
     "execution_count": 13,
     "metadata": {},
     "output_type": "execute_result"
    }
   ],
   "source": [
    "train_df_bert"
   ]
  },
  {
   "cell_type": "code",
   "execution_count": 14,
   "id": "c28adefa",
   "metadata": {},
   "outputs": [],
   "source": [
    "train_df_bert = train_df_bert.iloc[0:10000]"
   ]
  },
  {
   "cell_type": "code",
   "execution_count": 15,
   "id": "776855ab-95d8-4089-94f7-48087bea695a",
   "metadata": {},
   "outputs": [
    {
     "data": {
      "text/html": [
       "<div>\n",
       "<style scoped>\n",
       "    .dataframe tbody tr th:only-of-type {\n",
       "        vertical-align: middle;\n",
       "    }\n",
       "\n",
       "    .dataframe tbody tr th {\n",
       "        vertical-align: top;\n",
       "    }\n",
       "\n",
       "    .dataframe thead th {\n",
       "        text-align: right;\n",
       "    }\n",
       "</style>\n",
       "<table border=\"1\" class=\"dataframe\">\n",
       "  <thead>\n",
       "    <tr style=\"text-align: right;\">\n",
       "      <th></th>\n",
       "      <th>id</th>\n",
       "      <th>label</th>\n",
       "      <th>sentence</th>\n",
       "    </tr>\n",
       "  </thead>\n",
       "  <tbody>\n",
       "    <tr>\n",
       "      <th>0</th>\n",
       "      <td>0</td>\n",
       "      <td>1</td>\n",
       "      <td>'the movie is amateurish , but it's a minor tr...</td>\n",
       "    </tr>\n",
       "    <tr>\n",
       "      <th>1</th>\n",
       "      <td>1</td>\n",
       "      <td>1</td>\n",
       "      <td>absorbing character study by andr? turpin .</td>\n",
       "    </tr>\n",
       "    <tr>\n",
       "      <th>2</th>\n",
       "      <td>2</td>\n",
       "      <td>1</td>\n",
       "      <td>a film of precious increments artfully camoufl...</td>\n",
       "    </tr>\n",
       "    <tr>\n",
       "      <th>3</th>\n",
       "      <td>3</td>\n",
       "      <td>1</td>\n",
       "      <td>'for those who are intrigued by politics of th...</td>\n",
       "    </tr>\n",
       "    <tr>\n",
       "      <th>4</th>\n",
       "      <td>4</td>\n",
       "      <td>1</td>\n",
       "      <td>the first half bursts with a goofy energy prev...</td>\n",
       "    </tr>\n",
       "  </tbody>\n",
       "</table>\n",
       "</div>"
      ],
      "text/plain": [
       "   id  label                                           sentence\n",
       "0   0      1  'the movie is amateurish , but it's a minor tr...\n",
       "1   1      1       absorbing character study by andr? turpin . \n",
       "2   2      1  a film of precious increments artfully camoufl...\n",
       "3   3      1  'for those who are intrigued by politics of th...\n",
       "4   4      1  the first half bursts with a goofy energy prev..."
      ]
     },
     "execution_count": 15,
     "metadata": {},
     "output_type": "execute_result"
    }
   ],
   "source": [
    "test_df_bert = pd.DataFrame({\n",
    "    \"id\": range(len(test_df)),\n",
    "    \"label\": test_df['sentiment'],\n",
    "    \"sentence\": test_df['review'].replace(r'\\n', ' ', regex=True)\n",
    "})\n",
    "\n",
    "test_df_bert.head()"
   ]
  },
  {
   "cell_type": "code",
   "execution_count": 16,
   "id": "2153c62e",
   "metadata": {},
   "outputs": [],
   "source": [
    "test_df_bert = test_df_bert.iloc[0:3000]"
   ]
  },
  {
   "cell_type": "code",
   "execution_count": 17,
   "id": "a43627ca",
   "metadata": {},
   "outputs": [
    {
     "data": {
      "text/html": [
       "<div>\n",
       "<style scoped>\n",
       "    .dataframe tbody tr th:only-of-type {\n",
       "        vertical-align: middle;\n",
       "    }\n",
       "\n",
       "    .dataframe tbody tr th {\n",
       "        vertical-align: top;\n",
       "    }\n",
       "\n",
       "    .dataframe thead th {\n",
       "        text-align: right;\n",
       "    }\n",
       "</style>\n",
       "<table border=\"1\" class=\"dataframe\">\n",
       "  <thead>\n",
       "    <tr style=\"text-align: right;\">\n",
       "      <th></th>\n",
       "      <th>id</th>\n",
       "      <th>label</th>\n",
       "      <th>sentence</th>\n",
       "    </tr>\n",
       "  </thead>\n",
       "  <tbody>\n",
       "    <tr>\n",
       "      <th>0</th>\n",
       "      <td>0</td>\n",
       "      <td>1</td>\n",
       "      <td>'the movie is amateurish , but it's a minor tr...</td>\n",
       "    </tr>\n",
       "    <tr>\n",
       "      <th>1</th>\n",
       "      <td>1</td>\n",
       "      <td>1</td>\n",
       "      <td>absorbing character study by andr? turpin .</td>\n",
       "    </tr>\n",
       "    <tr>\n",
       "      <th>2</th>\n",
       "      <td>2</td>\n",
       "      <td>1</td>\n",
       "      <td>a film of precious increments artfully camoufl...</td>\n",
       "    </tr>\n",
       "    <tr>\n",
       "      <th>3</th>\n",
       "      <td>3</td>\n",
       "      <td>1</td>\n",
       "      <td>'for those who are intrigued by politics of th...</td>\n",
       "    </tr>\n",
       "    <tr>\n",
       "      <th>4</th>\n",
       "      <td>4</td>\n",
       "      <td>1</td>\n",
       "      <td>the first half bursts with a goofy energy prev...</td>\n",
       "    </tr>\n",
       "    <tr>\n",
       "      <th>...</th>\n",
       "      <td>...</td>\n",
       "      <td>...</td>\n",
       "      <td>...</td>\n",
       "    </tr>\n",
       "    <tr>\n",
       "      <th>1043</th>\n",
       "      <td>1043</td>\n",
       "      <td>0</td>\n",
       "      <td>a trite psychological thriller designed to kee...</td>\n",
       "    </tr>\n",
       "    <tr>\n",
       "      <th>1044</th>\n",
       "      <td>1044</td>\n",
       "      <td>0</td>\n",
       "      <td>fails as a dystopian movie , as a retooling of...</td>\n",
       "    </tr>\n",
       "    <tr>\n",
       "      <th>1045</th>\n",
       "      <td>1045</td>\n",
       "      <td>0</td>\n",
       "      <td>bearable . barely .</td>\n",
       "    </tr>\n",
       "    <tr>\n",
       "      <th>1046</th>\n",
       "      <td>1046</td>\n",
       "      <td>0</td>\n",
       "      <td>reeboir varies between a sweet smile and an an...</td>\n",
       "    </tr>\n",
       "    <tr>\n",
       "      <th>1047</th>\n",
       "      <td>1047</td>\n",
       "      <td>0</td>\n",
       "      <td>a kilted jackson is an unsettling sight , and ...</td>\n",
       "    </tr>\n",
       "  </tbody>\n",
       "</table>\n",
       "<p>1048 rows × 3 columns</p>\n",
       "</div>"
      ],
      "text/plain": [
       "        id  label                                           sentence\n",
       "0        0      1  'the movie is amateurish , but it's a minor tr...\n",
       "1        1      1       absorbing character study by andr? turpin . \n",
       "2        2      1  a film of precious increments artfully camoufl...\n",
       "3        3      1  'for those who are intrigued by politics of th...\n",
       "4        4      1  the first half bursts with a goofy energy prev...\n",
       "...    ...    ...                                                ...\n",
       "1043  1043      0  a trite psychological thriller designed to kee...\n",
       "1044  1044      0  fails as a dystopian movie , as a retooling of...\n",
       "1045  1045      0                               bearable . barely . \n",
       "1046  1046      0  reeboir varies between a sweet smile and an an...\n",
       "1047  1047      0  a kilted jackson is an unsettling sight , and ...\n",
       "\n",
       "[1048 rows x 3 columns]"
      ]
     },
     "execution_count": 17,
     "metadata": {},
     "output_type": "execute_result"
    }
   ],
   "source": [
    "test_df_bert"
   ]
  },
  {
   "cell_type": "code",
   "execution_count": 18,
   "id": "63808a94",
   "metadata": {},
   "outputs": [],
   "source": [
    "# Get the lists of sentences and their labels.\n",
    "train_sentences = train_df_bert.sentence.values\n",
    "train_labels = train_df_bert.label.values"
   ]
  },
  {
   "cell_type": "code",
   "execution_count": 19,
   "id": "d94fac44",
   "metadata": {},
   "outputs": [],
   "source": [
    "# Get the lists of sentences and their labels.\n",
    "test_sentences = test_df_bert.sentence.values\n",
    "test_labels = test_df_bert.label.values"
   ]
  },
  {
   "cell_type": "code",
   "execution_count": 20,
   "id": "4b28d1e7",
   "metadata": {},
   "outputs": [
    {
     "name": "stdout",
     "output_type": "stream",
     "text": [
      "Loading BERT tokenizer...\n"
     ]
    }
   ],
   "source": [
    "from transformers import BertTokenizer\n",
    "\n",
    "# Load the BERT tokenizer.\n",
    "print('Loading BERT tokenizer...')\n",
    "tokenizer = BertTokenizer.from_pretrained('bert-base-uncased', do_lower_case=True)"
   ]
  },
  {
   "cell_type": "code",
   "execution_count": 25,
   "id": "fefb1412",
   "metadata": {
    "scrolled": true
   },
   "outputs": [
    {
     "name": "stdout",
     "output_type": "stream",
     "text": [
      " Original:  morvern callar confirms lynne ramsay as an important , original talent in international cinema . \n",
      "Tokenized:  ['mor', '##vern', 'call', '##ar', 'confirms', 'lynne', 'ramsay', 'as', 'an', 'important', ',', 'original', 'talent', 'in', 'international', 'cinema', '.']\n",
      "Token IDs:  [22822, 23062, 2655, 2906, 23283, 26938, 19460, 2004, 2019, 2590, 1010, 2434, 5848, 1999, 2248, 5988, 1012]\n"
     ]
    }
   ],
   "source": [
    "# Print the original sentence.\n",
    "print(' Original: ', train_sentences[1])\n",
    "\n",
    "# Print the sentence split into tokens.\n",
    "print('Tokenized: ', tokenizer.tokenize(train_sentences[1]))\n",
    "\n",
    "# Print the sentence mapped to token ids.\n",
    "print('Token IDs: ', tokenizer.convert_tokens_to_ids(tokenizer.tokenize(train_sentences[1])))"
   ]
  },
  {
   "cell_type": "code",
   "execution_count": 26,
   "id": "b6908afb",
   "metadata": {},
   "outputs": [
    {
     "name": "stdout",
     "output_type": "stream",
     "text": [
      "Max sentence length:  81\n"
     ]
    }
   ],
   "source": [
    "import warnings\n",
    "warnings.filterwarnings('ignore')\n",
    "\n",
    "max_len_train = 0\n",
    "\n",
    "# For every sentence...\n",
    "for sent in train_sentences:\n",
    "    #sent=str(sent)\n",
    "\n",
    "    # Tokenize the text and add `[CLS]` and `[SEP]` tokens.\n",
    "    input_ids = tokenizer.encode(sent[:512], add_special_tokens=True)\n",
    "\n",
    "    # Update the maximum sentence length.\n",
    "    max_len_train = max(max_len_train, len(input_ids))\n",
    "\n",
    "print('Max sentence length: ', max_len_train)"
   ]
  },
  {
   "cell_type": "code",
   "execution_count": 27,
   "id": "64c5cf19",
   "metadata": {},
   "outputs": [
    {
     "name": "stdout",
     "output_type": "stream",
     "text": [
      "Max sentence length:  75\n"
     ]
    }
   ],
   "source": [
    "max_len_test = 0\n",
    "\n",
    "# For every sentence...\n",
    "for sent in test_sentences:\n",
    "    #sent=str(sent)\n",
    "\n",
    "    # Tokenize the text and add `[CLS]` and `[SEP]` tokens.\n",
    "    input_ids = tokenizer.encode(sent[:512], add_special_tokens=True)\n",
    "\n",
    "    # Update the maximum sentence length.\n",
    "    max_len_test = max(max_len_test, len(input_ids))\n",
    "\n",
    "print('Max sentence length: ', max_len_test)"
   ]
  },
  {
   "cell_type": "code",
   "execution_count": 28,
   "id": "1aede659",
   "metadata": {},
   "outputs": [
    {
     "name": "stdout",
     "output_type": "stream",
     "text": [
      "Original:  the magic of the film lies not in the mysterious spring but in the richness of its performances . \n",
      "Token IDs: tensor([ 101, 1996, 3894, 1997, 1996, 2143, 3658, 2025, 1999, 1996, 8075, 3500,\n",
      "        2021, 1999, 1996, 4138, 2791, 1997, 2049, 4616, 1012,  102,    0,    0,\n",
      "           0,    0,    0,    0,    0,    0,    0,    0,    0,    0,    0,    0,\n",
      "           0,    0,    0,    0,    0,    0,    0,    0,    0,    0,    0,    0,\n",
      "           0,    0,    0,    0,    0,    0,    0,    0,    0,    0,    0,    0])\n"
     ]
    }
   ],
   "source": [
    "# Tokenize all of the sentences and map the tokens to thier word IDs.\n",
    "input_ids = []\n",
    "attention_masks = []\n",
    "\n",
    "# For every sentence...\n",
    "for sent in train_sentences:\n",
    "    #sent=str(sent)\n",
    "    # `encode_plus` will:\n",
    "    #   (1) Tokenize the sentence.\n",
    "    #   (2) Prepend the `[CLS]` token to the start.\n",
    "    #   (3) Append the `[SEP]` token to the end.\n",
    "    #   (4) Map tokens to their IDs.\n",
    "    #   (5) Pad or truncate the sentence to `max_length`\n",
    "    #   (6) Create attention masks for [PAD] tokens.\n",
    "    encoded_dict = tokenizer.encode_plus(\n",
    "                        sent,                      # Sentence to encode.\n",
    "                        add_special_tokens = True, # Add '[CLS]' and '[SEP]'\n",
    "                        max_length = 60,           # Pad & truncate all sentences.\n",
    "                        pad_to_max_length = True,\n",
    "                        return_attention_mask = True,   # Construct attn. masks.\n",
    "                        return_tensors = 'pt',     # Return pytorch tensors.\n",
    "                        truncation=True\n",
    "                   )\n",
    "    \n",
    "    # Add the encoded sentence to the list.    \n",
    "    input_ids.append(encoded_dict['input_ids'])\n",
    "    \n",
    "    # And its attention mask (simply differentiates padding from non-padding).\n",
    "    attention_masks.append(encoded_dict['attention_mask'])\n",
    "\n",
    "# Convert the lists into tensors.\n",
    "input_ids = torch.cat(input_ids, dim=0)\n",
    "attention_masks = torch.cat(attention_masks, dim=0)\n",
    "labels = torch.tensor(train_labels)\n",
    "\n",
    "# Print sentence 0, now as a list of IDs.\n",
    "print('Original: ', train_sentences[0])\n",
    "print('Token IDs:', input_ids[0])"
   ]
  },
  {
   "cell_type": "code",
   "execution_count": 29,
   "id": "3fbe71f3",
   "metadata": {},
   "outputs": [
    {
     "data": {
      "text/html": [
       "<div>\n",
       "<style scoped>\n",
       "    .dataframe tbody tr th:only-of-type {\n",
       "        vertical-align: middle;\n",
       "    }\n",
       "\n",
       "    .dataframe tbody tr th {\n",
       "        vertical-align: top;\n",
       "    }\n",
       "\n",
       "    .dataframe thead th {\n",
       "        text-align: right;\n",
       "    }\n",
       "</style>\n",
       "<table border=\"1\" class=\"dataframe\">\n",
       "  <thead>\n",
       "    <tr style=\"text-align: right;\">\n",
       "      <th></th>\n",
       "      <th>id</th>\n",
       "      <th>label</th>\n",
       "      <th>sentence</th>\n",
       "    </tr>\n",
       "  </thead>\n",
       "  <tbody>\n",
       "    <tr>\n",
       "      <th>0</th>\n",
       "      <td>0</td>\n",
       "      <td>1</td>\n",
       "      <td>the magic of the film lies not in the mysterio...</td>\n",
       "    </tr>\n",
       "    <tr>\n",
       "      <th>1</th>\n",
       "      <td>1</td>\n",
       "      <td>1</td>\n",
       "      <td>morvern callar confirms lynne ramsay as an imp...</td>\n",
       "    </tr>\n",
       "    <tr>\n",
       "      <th>2</th>\n",
       "      <td>2</td>\n",
       "      <td>1</td>\n",
       "      <td>'writer-director's mehta's effort has tons of ...</td>\n",
       "    </tr>\n",
       "    <tr>\n",
       "      <th>3</th>\n",
       "      <td>3</td>\n",
       "      <td>1</td>\n",
       "      <td>this is art paying homage to art .</td>\n",
       "    </tr>\n",
       "    <tr>\n",
       "      <th>4</th>\n",
       "      <td>4</td>\n",
       "      <td>1</td>\n",
       "      <td>is this love or is it masochism ? binoche make...</td>\n",
       "    </tr>\n",
       "  </tbody>\n",
       "</table>\n",
       "</div>"
      ],
      "text/plain": [
       "   id  label                                           sentence\n",
       "0   0      1  the magic of the film lies not in the mysterio...\n",
       "1   1      1  morvern callar confirms lynne ramsay as an imp...\n",
       "2   2      1  'writer-director's mehta's effort has tons of ...\n",
       "3   3      1                this is art paying homage to art . \n",
       "4   4      1  is this love or is it masochism ? binoche make..."
      ]
     },
     "execution_count": 29,
     "metadata": {},
     "output_type": "execute_result"
    }
   ],
   "source": [
    "\n",
    "train_df_bert.head()"
   ]
  },
  {
   "cell_type": "code",
   "execution_count": 30,
   "id": "eaa44a96",
   "metadata": {},
   "outputs": [],
   "source": [
    "(x_train, y_train), (x_test, y_test) = (train_df_bert.sentence,train_df_bert.label),(test_df_bert.sentence,test_df_bert.label)"
   ]
  },
  {
   "cell_type": "code",
   "execution_count": 31,
   "id": "a8a6e7b1",
   "metadata": {},
   "outputs": [],
   "source": [
    "from keras.preprocessing.text import Tokenizer\n",
    "\n",
    "tokenizer = Tokenizer(num_words=5000)\n",
    "tokenizer.fit_on_texts(x_train)\n",
    "x_train = tokenizer.texts_to_sequences(x_train)\n",
    "x_test = tokenizer.texts_to_sequences(x_test)"
   ]
  },
  {
   "cell_type": "code",
   "execution_count": 32,
   "id": "0b69509e",
   "metadata": {},
   "outputs": [
    {
     "name": "stdout",
     "output_type": "stream",
     "text": [
      "Pad sequences (samples x time)\n",
      "X_train shape: (9432, 60)\n",
      "X_test shape: (1048, 60)\n"
     ]
    }
   ],
   "source": [
    "from keras_preprocessing.sequence import pad_sequences\n",
    "# 2 - Define the number of words to be used from a review (truncate and pad input sequences)\n",
    "print('Pad sequences (samples x time)')\n",
    "\n",
    "max_review_length = 60\n",
    "\n",
    "x_train = pad_sequences(x_train, maxlen=max_review_length)\n",
    "print('X_train shape:',x_train.shape)\n",
    "x_test = pad_sequences(x_test, maxlen=max_review_length)\n",
    "print('X_test shape:',x_test.shape)"
   ]
  },
  {
   "cell_type": "code",
   "execution_count": 34,
   "id": "619c36e6",
   "metadata": {},
   "outputs": [
    {
     "name": "stdout",
     "output_type": "stream",
     "text": [
      "Building model\n",
      "Model: \"sequential_1\"\n",
      "_________________________________________________________________\n",
      "Layer (type)                 Output Shape              Param #   \n",
      "=================================================================\n",
      "embedding_1 (Embedding)      (None, 60, 32)            64000     \n",
      "_________________________________________________________________\n",
      "conv1d_3 (Conv1D)            (None, 60, 32)            5152      \n",
      "_________________________________________________________________\n",
      "dropout_5 (Dropout)          (None, 60, 32)            0         \n",
      "_________________________________________________________________\n",
      "conv1d_4 (Conv1D)            (None, 60, 32)            4128      \n",
      "_________________________________________________________________\n",
      "dropout_6 (Dropout)          (None, 60, 32)            0         \n",
      "_________________________________________________________________\n",
      "conv1d_5 (Conv1D)            (None, 60, 32)            3104      \n",
      "_________________________________________________________________\n",
      "dropout_7 (Dropout)          (None, 60, 32)            0         \n",
      "_________________________________________________________________\n",
      "max_pooling1d_1 (MaxPooling1 (None, 30, 32)            0         \n",
      "_________________________________________________________________\n",
      "dropout_8 (Dropout)          (None, 30, 32)            0         \n",
      "_________________________________________________________________\n",
      "bidirectional_1 (Bidirection (None, 60)                15120     \n",
      "_________________________________________________________________\n",
      "dropout_9 (Dropout)          (None, 60)                0         \n",
      "_________________________________________________________________\n",
      "dense_1 (Dense)              (None, 1)                 61        \n",
      "=================================================================\n",
      "Total params: 91,565\n",
      "Trainable params: 91,565\n",
      "Non-trainable params: 0\n",
      "_________________________________________________________________\n"
     ]
    }
   ],
   "source": [
    "#FLeCLwoFD\n",
    "import tensorflow\n",
    "from keras.models import Sequential\n",
    "from keras.layers import Dense,Dropout,Activation, Flatten\n",
    "from keras.layers import LSTM\n",
    "from tensorflow.keras.layers import Bidirectional\n",
    "from keras.layers import Conv1D\n",
    "from keras.layers import GlobalMaxPooling1D,MaxPooling1D\n",
    "from keras.layers import Embedding\n",
    "import matplotlib.pyplot as plt\n",
    "\n",
    "# 3 - Neural network model design\n",
    "print('Building model')\n",
    "max_features = 2000\n",
    "embedding_vector_length = 32\n",
    "nb_classes = 5\n",
    "filters = 32\n",
    "kernel_size = 3\n",
    "hidden_dims = 40\n",
    "#input_shape=x_train.shape\n",
    "model = Sequential()\n",
    "model.add(Embedding(max_features, embedding_vector_length, input_length=max_review_length))\n",
    "\n",
    "model.add(Conv1D(filters=32, kernel_size=5, padding='same', activation='relu',))\n",
    "model.add(Dropout(0.1))\n",
    "model.add(Conv1D(filters=32, kernel_size=4, padding='same', activation='relu'))\n",
    "model.add(Dropout(0.1))\n",
    "model.add(Conv1D(filters=32, kernel_size=3, padding='same', activation='relu'))\n",
    "model.add(Dropout(0.1))\n",
    "model.add(MaxPooling1D(pool_size=2))\n",
    "model.add(Dropout(0.1))\n",
    "model.add(Bidirectional(LSTM(30,activation='tanh',\n",
    "                             recurrent_activation='sigmoid',\n",
    "                             return_state=False,\n",
    "                             return_sequences=False)))\n",
    "\n",
    "model.add(Dropout(0.1))\n",
    "\n",
    "model.add(Dense(1, activation='sigmoid'))\n",
    "\n",
    "model.compile(loss='binary_crossentropy',optimizer='adam', metrics=['accuracy'])\n",
    "\n",
    "model.summary()\n"
   ]
  },
  {
   "cell_type": "code",
   "execution_count": 35,
   "id": "f3da6015",
   "metadata": {},
   "outputs": [
    {
     "data": {
      "image/png": "[encoded data removed]",
      "text/plain": [
       "<IPython.core.display.Image object>"
      ]
     },
     "execution_count": 35,
     "metadata": {},
     "output_type": "execute_result"
    }
   ],
   "source": [
    "import os\n",
    "os.environ[\"PATH\"] += os.pathsep + 'C:/Program Files/Graphviz/bin'\n",
    "tf.keras.utils.plot_model(model, show_shapes=True, dpi=64)"
   ]
  },
  {
   "cell_type": "code",
   "execution_count": 36,
   "id": "65c2c075",
   "metadata": {},
   "outputs": [
    {
     "name": "stdout",
     "output_type": "stream",
     "text": [
      "Epoch 1/20\n",
      "849/849 [==============================] - 19s 15ms/step - loss: 0.6118 - accuracy: 0.6504 - val_loss: 0.5760 - val_accuracy: 0.7140\n",
      "Epoch 2/20\n",
      "849/849 [==============================] - 11s 13ms/step - loss: 0.4468 - accuracy: 0.7957 - val_loss: 0.5689 - val_accuracy: 0.7097\n",
      "Epoch 3/20\n",
      "849/849 [==============================] - 11s 13ms/step - loss: 0.3727 - accuracy: 0.8389 - val_loss: 0.5923 - val_accuracy: 0.7182\n",
      "Epoch 4/20\n",
      "849/849 [==============================] - 11s 13ms/step - loss: 0.3106 - accuracy: 0.8682 - val_loss: 0.6446 - val_accuracy: 0.7225\n",
      "Epoch 5/20\n",
      "849/849 [==============================] - 11s 13ms/step - loss: 0.2493 - accuracy: 0.9019 - val_loss: 0.7967 - val_accuracy: 0.6896\n",
      "295/295 [==============================] - 2s 6ms/step - loss: 0.2840 - accuracy: 0.8867\n",
      "Training Accuracy: 0.886662\n",
      "Training Loss: 0.284039\n",
      "33/33 [==============================] - 0s 5ms/step - loss: 0.7183 - accuracy: 0.7099\n",
      "Testing Accuracy:  0.709924\n",
      "Testing Loss:  0.718283\n"
     ]
    }
   ],
   "source": [
    "import keras\n",
    "import numpy\n",
    "es_callback = keras.callbacks.EarlyStopping(monitor='val_loss', patience=3)\n",
    "\n",
    "# 4 - Train the neural network model\n",
    "history = model.fit(x_train, y_train,\n",
    "                    epochs=20, \n",
    "                    verbose=True,\n",
    "                    callbacks=[es_callback],\n",
    "                    #validation_data=(x_test, y_test),\n",
    "                    validation_split=0.1,\n",
    "                    batch_size=10)\n",
    "\n",
    "loss, accuracy = model.evaluate(x_train, y_train, verbose=True)\n",
    "print(\"Training Accuracy: {:.6f}\".format(accuracy))\n",
    "print(\"Training Loss: {:.6f}\".format(loss))\n",
    "loss, accuracy = model.evaluate(x_test, y_test, verbose=True)\n",
    "print(\"Testing Accuracy:  {:.6f}\".format(accuracy))\n",
    "print(\"Testing Loss:  {:.6f}\".format(loss))\n"
   ]
  },
  {
   "cell_type": "code",
   "execution_count": 139,
   "id": "9f8a9517",
   "metadata": {},
   "outputs": [
    {
     "data": {
      "image/png": "[encoded data removed]",
      "text/plain": [
       "<Figure size 1200x500 with 2 Axes>"
      ]
     },
     "metadata": {},
     "output_type": "display_data"
    },
    {
     "data": {
      "image/png": "[encoded data removed]",
      "text/plain": [
       "<Figure size 640x480 with 2 Axes>"
      ]
     },
     "metadata": {},
     "output_type": "display_data"
    }
   ],
   "source": [
    "import matplotlib.pyplot as plt\n",
    "#% matplotlib inline\n",
    "\n",
    "acc = history.history['accuracy']\n",
    "val_acc = history.history['val_accuracy']\n",
    "loss = history.history['loss']\n",
    "val_loss = history.history['val_loss']\n",
    "x = range(1, len(acc) + 1)\n",
    "\n",
    "plt.figure(figsize=(12, 5))\n",
    "plt.subplot(1, 2, 1)\n",
    "plt.plot(x, acc, 'b', label='Training acc')\n",
    "plt.plot(x, val_acc, 'r', label='Validation acc')\n",
    "plt.title('Training and validation accuracy')\n",
    "plt.legend()\n",
    "plt.subplot(1, 2, 2)\n",
    "plt.plot(x, loss, 'b', label='Training loss')\n",
    "plt.plot(x, val_loss, 'r', label='Validation loss')\n",
    "plt.title('Training and validation loss')\n",
    "plt.legend()\n",
    "\n",
    "plt.show()\n",
    "\n",
    "plt.subplot(211)\n",
    "plt.title('Loss')\n",
    "plt.plot(history.history['loss'], label='train')\n",
    "plt.plot(history.history['val_loss'], label='test')\n",
    "plt.legend()\n",
    "\n",
    "plt.subplot(212)\n",
    "plt.title('Accuracy')\n",
    "plt.plot(history.history['accuracy'], label='train')\n",
    "plt.plot(history.history['val_accuracy'], label='test')\n",
    "plt.legend()\n",
    "plt.show()"
   ]
  }
 ],
 "metadata": {
  "kernelspec": {
   "display_name": "Python 3 (ipykernel)",
   "language": "python",
   "name": "python3"
  },
  "language_info": {
   "codemirror_mode": {
    "name": "ipython",
    "version": 3
   },
   "file_extension": ".py",
   "mimetype": "text/x-python",
   "name": "python",
   "nbconvert_exporter": "python",
   "pygments_lexer": "ipython3",
   "version": "3.9.18"
  }
 },
 "nbformat": 4,
 "nbformat_minor": 5
}
