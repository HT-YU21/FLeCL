{
 "cells": [
  {
   "cell_type": "code",
   "execution_count": 130,
   "id": "240134c6",
   "metadata": {},
   "outputs": [
    {
     "name": "stdout",
     "output_type": "stream",
     "text": [
      "Found GPU at: /device:GPU:0\n"
     ]
    }
   ],
   "source": [
    "import tensorflow as tf\n",
    "\n",
    "# Get the GPU device name.\n",
    "device_name = tf.test.gpu_device_name()\n",
    "\n",
    "# The device name should look like the following:\n",
    "if device_name == '/device:GPU:0':\n",
    "    print('Found GPU at: {}'.format(device_name))\n",
    "else:\n",
    "    print('GPU device not found')"
   ]
  },
  {
   "cell_type": "code",
   "execution_count": 131,
   "id": "b9cf5bea",
   "metadata": {},
   "outputs": [
    {
     "name": "stdout",
     "output_type": "stream",
     "text": [
      "There are 1 GPU(s) available.\n",
      "We will use the GPU: NVIDIA GeForce GTX 1080 Ti\n"
     ]
    }
   ],
   "source": [
    "import torch\n",
    "\n",
    "# If there's a GPU available...\n",
    "if torch.cuda.is_available():    \n",
    "\n",
    "    # Tell PyTorch to use the GPU.    \n",
    "    device = torch.device(\"cuda\")\n",
    "\n",
    "    print('There are %d GPU(s) available.' % torch.cuda.device_count())\n",
    "\n",
    "    print('We will use the GPU:', torch.cuda.get_device_name(0))\n",
    "\n",
    "# If not...\n",
    "else:\n",
    "    print('No GPU available, using the CPU instead.')\n",
    "    device = torch.device(\"cpu\")"
   ]
  },
  {
   "cell_type": "code",
   "execution_count": 132,
   "id": "28fa7325",
   "metadata": {},
   "outputs": [],
   "source": [
    "import pandas as pd"
   ]
  },
  {
   "cell_type": "code",
   "execution_count": 134,
   "id": "b786a575-51de-4f99-ac9d-f531042f818b",
   "metadata": {},
   "outputs": [
    {
     "name": "stdout",
     "output_type": "stream",
     "text": [
      "                                                  review  sentiment\n",
      "0      One of the other reviewers has mentioned that ...          1\n",
      "1      A wonderful little production. <br /><br />The...          1\n",
      "2      I thought this was a wonderful way to spend ti...          1\n",
      "3      Basically there's a family where a little boy ...          0\n",
      "4      Petter Mattei's \"Love in the Time of Money\" is...          1\n",
      "...                                                  ...        ...\n",
      "49995  I thought this movie did a down right good job...          1\n",
      "49996  Bad plot, bad dialogue, bad acting, idiotic di...          0\n",
      "49997  I am a Catholic taught in parochial elementary...          0\n",
      "49998  I'm going to have to disagree with the previou...          0\n",
      "49999  No one expects the Star Trek movies to be high...          0\n",
      "\n",
      "[50000 rows x 2 columns]\n"
     ]
    }
   ],
   "source": [
    "# importing the pandas library\n",
    "import pandas as pd\n",
    "\n",
    "# reading the csv file\n",
    "df = pd.read_csv('mr/IMDB_Dataset.csv')\n",
    "\n",
    "# updating the column value/data\n",
    "df['sentiment'] = df['sentiment'].replace({'negative': 0})\n",
    "\n",
    "# writing into the file\n",
    "df.to_csv('mr/IMDB_Dataset.csv', index=False)\n",
    "\n",
    "print(df)\n"
   ]
  },
  {
   "cell_type": "code",
   "execution_count": 135,
   "id": "b8d4e8dc",
   "metadata": {},
   "outputs": [],
   "source": [
    "from numpy.random import RandomState\n",
    "#%% Split whole dataset into train and valid set\n",
    "df = pd.read_csv('mr/IMDB_Dataset.csv')\n",
    "rng = RandomState()\n",
    "\n",
    "train = df.sample(frac=0.9, random_state=rng)\n",
    "test = df.loc[~df.index.isin(train.index)]\n",
    "train.to_csv('train-imdb.csv', index=False)\n",
    "test.to_csv('test-imdb.csv', index=False)"
   ]
  },
  {
   "cell_type": "code",
   "execution_count": 136,
   "id": "573dc5ce-8638-4534-a4f2-f941d4584e07",
   "metadata": {},
   "outputs": [],
   "source": [
    "train_df = pd.read_csv(\"train-imdb.csv\", encoding='unicode_escape', header=0)"
   ]
  },
  {
   "cell_type": "code",
   "execution_count": 137,
   "id": "85d602a7",
   "metadata": {},
   "outputs": [
    {
     "data": {
      "text/html": [
       "<div>\n",
       "<style scoped>\n",
       "    .dataframe tbody tr th:only-of-type {\n",
       "        vertical-align: middle;\n",
       "    }\n",
       "\n",
       "    .dataframe tbody tr th {\n",
       "        vertical-align: top;\n",
       "    }\n",
       "\n",
       "    .dataframe thead th {\n",
       "        text-align: right;\n",
       "    }\n",
       "</style>\n",
       "<table border=\"1\" class=\"dataframe\">\n",
       "  <thead>\n",
       "    <tr style=\"text-align: right;\">\n",
       "      <th></th>\n",
       "      <th>review</th>\n",
       "      <th>sentiment</th>\n",
       "    </tr>\n",
       "  </thead>\n",
       "  <tbody>\n",
       "    <tr>\n",
       "      <th>0</th>\n",
       "      <td>This is the most ludicrous and laughable thril...</td>\n",
       "      <td>0</td>\n",
       "    </tr>\n",
       "    <tr>\n",
       "      <th>1</th>\n",
       "      <td>John Knowles modern masterpiece, A Separate Pe...</td>\n",
       "      <td>0</td>\n",
       "    </tr>\n",
       "    <tr>\n",
       "      <th>2</th>\n",
       "      <td>I was literally preparing to hate this movie, ...</td>\n",
       "      <td>1</td>\n",
       "    </tr>\n",
       "    <tr>\n",
       "      <th>3</th>\n",
       "      <td>I really enjoyed this movie. Typically Ron How...</td>\n",
       "      <td>1</td>\n",
       "    </tr>\n",
       "    <tr>\n",
       "      <th>4</th>\n",
       "      <td>I found this movie to be preachy and unrealist...</td>\n",
       "      <td>0</td>\n",
       "    </tr>\n",
       "    <tr>\n",
       "      <th>...</th>\n",
       "      <td>...</td>\n",
       "      <td>...</td>\n",
       "    </tr>\n",
       "    <tr>\n",
       "      <th>44995</th>\n",
       "      <td>Apparently SHRUNKEN HEADS was the last movie t...</td>\n",
       "      <td>0</td>\n",
       "    </tr>\n",
       "    <tr>\n",
       "      <th>44996</th>\n",
       "      <td>I must have seen this a dozen times over the y...</td>\n",
       "      <td>1</td>\n",
       "    </tr>\n",
       "    <tr>\n",
       "      <th>44997</th>\n",
       "      <td>If you want to watch a real 'quality' movie ge...</td>\n",
       "      <td>0</td>\n",
       "    </tr>\n",
       "    <tr>\n",
       "      <th>44998</th>\n",
       "      <td>My children watch the show everyday that its o...</td>\n",
       "      <td>0</td>\n",
       "    </tr>\n",
       "    <tr>\n",
       "      <th>44999</th>\n",
       "      <td>After slightly over 50 years of avid film watc...</td>\n",
       "      <td>0</td>\n",
       "    </tr>\n",
       "  </tbody>\n",
       "</table>\n",
       "<p>45000 rows × 2 columns</p>\n",
       "</div>"
      ],
      "text/plain": [
       "                                                  review  sentiment\n",
       "0      This is the most ludicrous and laughable thril...          0\n",
       "1      John Knowles modern masterpiece, A Separate Pe...          0\n",
       "2      I was literally preparing to hate this movie, ...          1\n",
       "3      I really enjoyed this movie. Typically Ron How...          1\n",
       "4      I found this movie to be preachy and unrealist...          0\n",
       "...                                                  ...        ...\n",
       "44995  Apparently SHRUNKEN HEADS was the last movie t...          0\n",
       "44996  I must have seen this a dozen times over the y...          1\n",
       "44997  If you want to watch a real 'quality' movie ge...          0\n",
       "44998  My children watch the show everyday that its o...          0\n",
       "44999  After slightly over 50 years of avid film watc...          0\n",
       "\n",
       "[45000 rows x 2 columns]"
      ]
     },
     "execution_count": 137,
     "metadata": {},
     "output_type": "execute_result"
    }
   ],
   "source": [
    "train_df"
   ]
  },
  {
   "cell_type": "code",
   "execution_count": 138,
   "id": "cef49628",
   "metadata": {},
   "outputs": [
    {
     "data": {
      "text/plain": [
       "0"
      ]
     },
     "execution_count": 138,
     "metadata": {},
     "output_type": "execute_result"
    }
   ],
   "source": [
    "train_df.iloc[0][1]"
   ]
  },
  {
   "cell_type": "code",
   "execution_count": 139,
   "id": "152544c0",
   "metadata": {},
   "outputs": [],
   "source": [
    "test_df = pd.read_csv(\"test-imdb.csv\", encoding='unicode_escape', header=0)"
   ]
  },
  {
   "cell_type": "code",
   "execution_count": 140,
   "id": "c17735fd",
   "metadata": {},
   "outputs": [
    {
     "data": {
      "text/plain": [
       "(5000, 2)"
      ]
     },
     "execution_count": 140,
     "metadata": {},
     "output_type": "execute_result"
    }
   ],
   "source": [
    "test_df.shape"
   ]
  },
  {
   "cell_type": "code",
   "execution_count": 141,
   "id": "7431f993",
   "metadata": {},
   "outputs": [
    {
     "data": {
      "text/html": [
       "<div>\n",
       "<style scoped>\n",
       "    .dataframe tbody tr th:only-of-type {\n",
       "        vertical-align: middle;\n",
       "    }\n",
       "\n",
       "    .dataframe tbody tr th {\n",
       "        vertical-align: top;\n",
       "    }\n",
       "\n",
       "    .dataframe thead th {\n",
       "        text-align: right;\n",
       "    }\n",
       "</style>\n",
       "<table border=\"1\" class=\"dataframe\">\n",
       "  <thead>\n",
       "    <tr style=\"text-align: right;\">\n",
       "      <th></th>\n",
       "      <th>review</th>\n",
       "      <th>sentiment</th>\n",
       "    </tr>\n",
       "  </thead>\n",
       "  <tbody>\n",
       "    <tr>\n",
       "      <th>0</th>\n",
       "      <td>A wonderful little production. &lt;br /&gt;&lt;br /&gt;The...</td>\n",
       "      <td>1</td>\n",
       "    </tr>\n",
       "    <tr>\n",
       "      <th>1</th>\n",
       "      <td>This a fantastic movie of three prisoners who ...</td>\n",
       "      <td>1</td>\n",
       "    </tr>\n",
       "    <tr>\n",
       "      <th>2</th>\n",
       "      <td>Some films just simply should not be remade. T...</td>\n",
       "      <td>1</td>\n",
       "    </tr>\n",
       "    <tr>\n",
       "      <th>3</th>\n",
       "      <td>Taut and organically gripping, Edward Dmytryk'...</td>\n",
       "      <td>1</td>\n",
       "    </tr>\n",
       "    <tr>\n",
       "      <th>4</th>\n",
       "      <td>\"Ardh Satya\" is one of the finest film ever ma...</td>\n",
       "      <td>1</td>\n",
       "    </tr>\n",
       "  </tbody>\n",
       "</table>\n",
       "</div>"
      ],
      "text/plain": [
       "                                              review  sentiment\n",
       "0  A wonderful little production. <br /><br />The...          1\n",
       "1  This a fantastic movie of three prisoners who ...          1\n",
       "2  Some films just simply should not be remade. T...          1\n",
       "3  Taut and organically gripping, Edward Dmytryk'...          1\n",
       "4  \"Ardh Satya\" is one of the finest film ever ma...          1"
      ]
     },
     "execution_count": 141,
     "metadata": {},
     "output_type": "execute_result"
    }
   ],
   "source": [
    "test_df.head()"
   ]
  },
  {
   "cell_type": "code",
   "execution_count": 142,
   "id": "98602c10-1578-43eb-bfb4-78b165358d27",
   "metadata": {},
   "outputs": [
    {
     "data": {
      "text/html": [
       "<div>\n",
       "<style scoped>\n",
       "    .dataframe tbody tr th:only-of-type {\n",
       "        vertical-align: middle;\n",
       "    }\n",
       "\n",
       "    .dataframe tbody tr th {\n",
       "        vertical-align: top;\n",
       "    }\n",
       "\n",
       "    .dataframe thead th {\n",
       "        text-align: right;\n",
       "    }\n",
       "</style>\n",
       "<table border=\"1\" class=\"dataframe\">\n",
       "  <thead>\n",
       "    <tr style=\"text-align: right;\">\n",
       "      <th></th>\n",
       "      <th>review</th>\n",
       "      <th>sentiment</th>\n",
       "    </tr>\n",
       "  </thead>\n",
       "  <tbody>\n",
       "    <tr>\n",
       "      <th>0</th>\n",
       "      <td>A wonderful little production. &lt;br /&gt;&lt;br /&gt;The...</td>\n",
       "      <td>1</td>\n",
       "    </tr>\n",
       "    <tr>\n",
       "      <th>1</th>\n",
       "      <td>This a fantastic movie of three prisoners who ...</td>\n",
       "      <td>1</td>\n",
       "    </tr>\n",
       "    <tr>\n",
       "      <th>2</th>\n",
       "      <td>Some films just simply should not be remade. T...</td>\n",
       "      <td>1</td>\n",
       "    </tr>\n",
       "    <tr>\n",
       "      <th>3</th>\n",
       "      <td>Taut and organically gripping, Edward Dmytryk'...</td>\n",
       "      <td>1</td>\n",
       "    </tr>\n",
       "    <tr>\n",
       "      <th>4</th>\n",
       "      <td>\"Ardh Satya\" is one of the finest film ever ma...</td>\n",
       "      <td>1</td>\n",
       "    </tr>\n",
       "    <tr>\n",
       "      <th>...</th>\n",
       "      <td>...</td>\n",
       "      <td>...</td>\n",
       "    </tr>\n",
       "    <tr>\n",
       "      <th>4995</th>\n",
       "      <td>This is John Waters best film to date. The cha...</td>\n",
       "      <td>1</td>\n",
       "    </tr>\n",
       "    <tr>\n",
       "      <th>4996</th>\n",
       "      <td>Yeah, I guess this movie is kinda dull compare...</td>\n",
       "      <td>1</td>\n",
       "    </tr>\n",
       "    <tr>\n",
       "      <th>4997</th>\n",
       "      <td>It is the early morning of our discontent, and...</td>\n",
       "      <td>0</td>\n",
       "    </tr>\n",
       "    <tr>\n",
       "      <th>4998</th>\n",
       "      <td>Imaginary Heroes is clearly the best film of t...</td>\n",
       "      <td>1</td>\n",
       "    </tr>\n",
       "    <tr>\n",
       "      <th>4999</th>\n",
       "      <td>Les Visiteurs, the first movie about the medie...</td>\n",
       "      <td>0</td>\n",
       "    </tr>\n",
       "  </tbody>\n",
       "</table>\n",
       "<p>5000 rows × 2 columns</p>\n",
       "</div>"
      ],
      "text/plain": [
       "                                                 review  sentiment\n",
       "0     A wonderful little production. <br /><br />The...          1\n",
       "1     This a fantastic movie of three prisoners who ...          1\n",
       "2     Some films just simply should not be remade. T...          1\n",
       "3     Taut and organically gripping, Edward Dmytryk'...          1\n",
       "4     \"Ardh Satya\" is one of the finest film ever ma...          1\n",
       "...                                                 ...        ...\n",
       "4995  This is John Waters best film to date. The cha...          1\n",
       "4996  Yeah, I guess this movie is kinda dull compare...          1\n",
       "4997  It is the early morning of our discontent, and...          0\n",
       "4998  Imaginary Heroes is clearly the best film of t...          1\n",
       "4999  Les Visiteurs, the first movie about the medie...          0\n",
       "\n",
       "[5000 rows x 2 columns]"
      ]
     },
     "execution_count": 142,
     "metadata": {},
     "output_type": "execute_result"
    }
   ],
   "source": [
    "test_df"
   ]
  },
  {
   "cell_type": "code",
   "execution_count": 143,
   "id": "67710abf",
   "metadata": {},
   "outputs": [
    {
     "data": {
      "text/html": [
       "<div>\n",
       "<style scoped>\n",
       "    .dataframe tbody tr th:only-of-type {\n",
       "        vertical-align: middle;\n",
       "    }\n",
       "\n",
       "    .dataframe tbody tr th {\n",
       "        vertical-align: top;\n",
       "    }\n",
       "\n",
       "    .dataframe thead th {\n",
       "        text-align: right;\n",
       "    }\n",
       "</style>\n",
       "<table border=\"1\" class=\"dataframe\">\n",
       "  <thead>\n",
       "    <tr style=\"text-align: right;\">\n",
       "      <th></th>\n",
       "      <th>id</th>\n",
       "      <th>label</th>\n",
       "      <th>sentence</th>\n",
       "    </tr>\n",
       "  </thead>\n",
       "  <tbody>\n",
       "    <tr>\n",
       "      <th>0</th>\n",
       "      <td>0</td>\n",
       "      <td>0</td>\n",
       "      <td>This is the most ludicrous and laughable thril...</td>\n",
       "    </tr>\n",
       "    <tr>\n",
       "      <th>1</th>\n",
       "      <td>1</td>\n",
       "      <td>0</td>\n",
       "      <td>John Knowles modern masterpiece, A Separate Pe...</td>\n",
       "    </tr>\n",
       "    <tr>\n",
       "      <th>2</th>\n",
       "      <td>2</td>\n",
       "      <td>1</td>\n",
       "      <td>I was literally preparing to hate this movie, ...</td>\n",
       "    </tr>\n",
       "    <tr>\n",
       "      <th>3</th>\n",
       "      <td>3</td>\n",
       "      <td>1</td>\n",
       "      <td>I really enjoyed this movie. Typically Ron How...</td>\n",
       "    </tr>\n",
       "    <tr>\n",
       "      <th>4</th>\n",
       "      <td>4</td>\n",
       "      <td>0</td>\n",
       "      <td>I found this movie to be preachy and unrealist...</td>\n",
       "    </tr>\n",
       "  </tbody>\n",
       "</table>\n",
       "</div>"
      ],
      "text/plain": [
       "   id  label                                           sentence\n",
       "0   0      0  This is the most ludicrous and laughable thril...\n",
       "1   1      0  John Knowles modern masterpiece, A Separate Pe...\n",
       "2   2      1  I was literally preparing to hate this movie, ...\n",
       "3   3      1  I really enjoyed this movie. Typically Ron How...\n",
       "4   4      0  I found this movie to be preachy and unrealist..."
      ]
     },
     "execution_count": 143,
     "metadata": {},
     "output_type": "execute_result"
    }
   ],
   "source": [
    "train_df_bert = pd.DataFrame({\n",
    "    \"id\": range(len(train_df)),\n",
    "    \"label\": train_df['sentiment'],\n",
    "    \"sentence\": train_df['review'].replace(r'\\n', ' ', regex=True)\n",
    "})\n",
    "\n",
    "train_df_bert.head()"
   ]
  },
  {
   "cell_type": "code",
   "execution_count": 144,
   "id": "31f1f193",
   "metadata": {},
   "outputs": [
    {
     "data": {
      "text/html": [
       "<div>\n",
       "<style scoped>\n",
       "    .dataframe tbody tr th:only-of-type {\n",
       "        vertical-align: middle;\n",
       "    }\n",
       "\n",
       "    .dataframe tbody tr th {\n",
       "        vertical-align: top;\n",
       "    }\n",
       "\n",
       "    .dataframe thead th {\n",
       "        text-align: right;\n",
       "    }\n",
       "</style>\n",
       "<table border=\"1\" class=\"dataframe\">\n",
       "  <thead>\n",
       "    <tr style=\"text-align: right;\">\n",
       "      <th></th>\n",
       "      <th>id</th>\n",
       "      <th>label</th>\n",
       "      <th>sentence</th>\n",
       "    </tr>\n",
       "  </thead>\n",
       "  <tbody>\n",
       "    <tr>\n",
       "      <th>0</th>\n",
       "      <td>0</td>\n",
       "      <td>0</td>\n",
       "      <td>This is the most ludicrous and laughable thril...</td>\n",
       "    </tr>\n",
       "    <tr>\n",
       "      <th>1</th>\n",
       "      <td>1</td>\n",
       "      <td>0</td>\n",
       "      <td>John Knowles modern masterpiece, A Separate Pe...</td>\n",
       "    </tr>\n",
       "    <tr>\n",
       "      <th>2</th>\n",
       "      <td>2</td>\n",
       "      <td>1</td>\n",
       "      <td>I was literally preparing to hate this movie, ...</td>\n",
       "    </tr>\n",
       "    <tr>\n",
       "      <th>3</th>\n",
       "      <td>3</td>\n",
       "      <td>1</td>\n",
       "      <td>I really enjoyed this movie. Typically Ron How...</td>\n",
       "    </tr>\n",
       "    <tr>\n",
       "      <th>4</th>\n",
       "      <td>4</td>\n",
       "      <td>0</td>\n",
       "      <td>I found this movie to be preachy and unrealist...</td>\n",
       "    </tr>\n",
       "    <tr>\n",
       "      <th>...</th>\n",
       "      <td>...</td>\n",
       "      <td>...</td>\n",
       "      <td>...</td>\n",
       "    </tr>\n",
       "    <tr>\n",
       "      <th>44995</th>\n",
       "      <td>44995</td>\n",
       "      <td>0</td>\n",
       "      <td>Apparently SHRUNKEN HEADS was the last movie t...</td>\n",
       "    </tr>\n",
       "    <tr>\n",
       "      <th>44996</th>\n",
       "      <td>44996</td>\n",
       "      <td>1</td>\n",
       "      <td>I must have seen this a dozen times over the y...</td>\n",
       "    </tr>\n",
       "    <tr>\n",
       "      <th>44997</th>\n",
       "      <td>44997</td>\n",
       "      <td>0</td>\n",
       "      <td>If you want to watch a real 'quality' movie ge...</td>\n",
       "    </tr>\n",
       "    <tr>\n",
       "      <th>44998</th>\n",
       "      <td>44998</td>\n",
       "      <td>0</td>\n",
       "      <td>My children watch the show everyday that its o...</td>\n",
       "    </tr>\n",
       "    <tr>\n",
       "      <th>44999</th>\n",
       "      <td>44999</td>\n",
       "      <td>0</td>\n",
       "      <td>After slightly over 50 years of avid film watc...</td>\n",
       "    </tr>\n",
       "  </tbody>\n",
       "</table>\n",
       "<p>45000 rows × 3 columns</p>\n",
       "</div>"
      ],
      "text/plain": [
       "          id  label                                           sentence\n",
       "0          0      0  This is the most ludicrous and laughable thril...\n",
       "1          1      0  John Knowles modern masterpiece, A Separate Pe...\n",
       "2          2      1  I was literally preparing to hate this movie, ...\n",
       "3          3      1  I really enjoyed this movie. Typically Ron How...\n",
       "4          4      0  I found this movie to be preachy and unrealist...\n",
       "...      ...    ...                                                ...\n",
       "44995  44995      0  Apparently SHRUNKEN HEADS was the last movie t...\n",
       "44996  44996      1  I must have seen this a dozen times over the y...\n",
       "44997  44997      0  If you want to watch a real 'quality' movie ge...\n",
       "44998  44998      0  My children watch the show everyday that its o...\n",
       "44999  44999      0  After slightly over 50 years of avid film watc...\n",
       "\n",
       "[45000 rows x 3 columns]"
      ]
     },
     "execution_count": 144,
     "metadata": {},
     "output_type": "execute_result"
    }
   ],
   "source": [
    "train_df_bert"
   ]
  },
  {
   "cell_type": "code",
   "execution_count": 145,
   "id": "c28adefa",
   "metadata": {},
   "outputs": [],
   "source": [
    "train_df_bert = train_df_bert.iloc[0:10000]"
   ]
  },
  {
   "cell_type": "code",
   "execution_count": 146,
   "id": "776855ab-95d8-4089-94f7-48087bea695a",
   "metadata": {},
   "outputs": [
    {
     "data": {
      "text/html": [
       "<div>\n",
       "<style scoped>\n",
       "    .dataframe tbody tr th:only-of-type {\n",
       "        vertical-align: middle;\n",
       "    }\n",
       "\n",
       "    .dataframe tbody tr th {\n",
       "        vertical-align: top;\n",
       "    }\n",
       "\n",
       "    .dataframe thead th {\n",
       "        text-align: right;\n",
       "    }\n",
       "</style>\n",
       "<table border=\"1\" class=\"dataframe\">\n",
       "  <thead>\n",
       "    <tr style=\"text-align: right;\">\n",
       "      <th></th>\n",
       "      <th>id</th>\n",
       "      <th>label</th>\n",
       "      <th>sentence</th>\n",
       "    </tr>\n",
       "  </thead>\n",
       "  <tbody>\n",
       "    <tr>\n",
       "      <th>0</th>\n",
       "      <td>0</td>\n",
       "      <td>1</td>\n",
       "      <td>A wonderful little production. &lt;br /&gt;&lt;br /&gt;The...</td>\n",
       "    </tr>\n",
       "    <tr>\n",
       "      <th>1</th>\n",
       "      <td>1</td>\n",
       "      <td>1</td>\n",
       "      <td>This a fantastic movie of three prisoners who ...</td>\n",
       "    </tr>\n",
       "    <tr>\n",
       "      <th>2</th>\n",
       "      <td>2</td>\n",
       "      <td>1</td>\n",
       "      <td>Some films just simply should not be remade. T...</td>\n",
       "    </tr>\n",
       "    <tr>\n",
       "      <th>3</th>\n",
       "      <td>3</td>\n",
       "      <td>1</td>\n",
       "      <td>Taut and organically gripping, Edward Dmytryk'...</td>\n",
       "    </tr>\n",
       "    <tr>\n",
       "      <th>4</th>\n",
       "      <td>4</td>\n",
       "      <td>1</td>\n",
       "      <td>\"Ardh Satya\" is one of the finest film ever ma...</td>\n",
       "    </tr>\n",
       "  </tbody>\n",
       "</table>\n",
       "</div>"
      ],
      "text/plain": [
       "   id  label                                           sentence\n",
       "0   0      1  A wonderful little production. <br /><br />The...\n",
       "1   1      1  This a fantastic movie of three prisoners who ...\n",
       "2   2      1  Some films just simply should not be remade. T...\n",
       "3   3      1  Taut and organically gripping, Edward Dmytryk'...\n",
       "4   4      1  \"Ardh Satya\" is one of the finest film ever ma..."
      ]
     },
     "execution_count": 146,
     "metadata": {},
     "output_type": "execute_result"
    }
   ],
   "source": [
    "test_df_bert = pd.DataFrame({\n",
    "    \"id\": range(len(test_df)),\n",
    "    \"label\": test_df['sentiment'],\n",
    "    \"sentence\": test_df['review'].replace(r'\\n', ' ', regex=True)\n",
    "})\n",
    "\n",
    "test_df_bert.head()"
   ]
  },
  {
   "cell_type": "code",
   "execution_count": 147,
   "id": "2153c62e",
   "metadata": {},
   "outputs": [],
   "source": [
    "test_df_bert = test_df_bert.iloc[0:3000]"
   ]
  },
  {
   "cell_type": "code",
   "execution_count": 148,
   "id": "a43627ca",
   "metadata": {},
   "outputs": [
    {
     "data": {
      "text/html": [
       "<div>\n",
       "<style scoped>\n",
       "    .dataframe tbody tr th:only-of-type {\n",
       "        vertical-align: middle;\n",
       "    }\n",
       "\n",
       "    .dataframe tbody tr th {\n",
       "        vertical-align: top;\n",
       "    }\n",
       "\n",
       "    .dataframe thead th {\n",
       "        text-align: right;\n",
       "    }\n",
       "</style>\n",
       "<table border=\"1\" class=\"dataframe\">\n",
       "  <thead>\n",
       "    <tr style=\"text-align: right;\">\n",
       "      <th></th>\n",
       "      <th>id</th>\n",
       "      <th>label</th>\n",
       "      <th>sentence</th>\n",
       "    </tr>\n",
       "  </thead>\n",
       "  <tbody>\n",
       "    <tr>\n",
       "      <th>0</th>\n",
       "      <td>0</td>\n",
       "      <td>1</td>\n",
       "      <td>A wonderful little production. &lt;br /&gt;&lt;br /&gt;The...</td>\n",
       "    </tr>\n",
       "    <tr>\n",
       "      <th>1</th>\n",
       "      <td>1</td>\n",
       "      <td>1</td>\n",
       "      <td>This a fantastic movie of three prisoners who ...</td>\n",
       "    </tr>\n",
       "    <tr>\n",
       "      <th>2</th>\n",
       "      <td>2</td>\n",
       "      <td>1</td>\n",
       "      <td>Some films just simply should not be remade. T...</td>\n",
       "    </tr>\n",
       "    <tr>\n",
       "      <th>3</th>\n",
       "      <td>3</td>\n",
       "      <td>1</td>\n",
       "      <td>Taut and organically gripping, Edward Dmytryk'...</td>\n",
       "    </tr>\n",
       "    <tr>\n",
       "      <th>4</th>\n",
       "      <td>4</td>\n",
       "      <td>1</td>\n",
       "      <td>\"Ardh Satya\" is one of the finest film ever ma...</td>\n",
       "    </tr>\n",
       "    <tr>\n",
       "      <th>...</th>\n",
       "      <td>...</td>\n",
       "      <td>...</td>\n",
       "      <td>...</td>\n",
       "    </tr>\n",
       "    <tr>\n",
       "      <th>2995</th>\n",
       "      <td>2995</td>\n",
       "      <td>1</td>\n",
       "      <td>This film starts out with all the moody promis...</td>\n",
       "    </tr>\n",
       "    <tr>\n",
       "      <th>2996</th>\n",
       "      <td>2996</td>\n",
       "      <td>0</td>\n",
       "      <td>Naach would have won an Razzie for the Worst F...</td>\n",
       "    </tr>\n",
       "    <tr>\n",
       "      <th>2997</th>\n",
       "      <td>2997</td>\n",
       "      <td>0</td>\n",
       "      <td>I won't describe the story, as that has been d...</td>\n",
       "    </tr>\n",
       "    <tr>\n",
       "      <th>2998</th>\n",
       "      <td>2998</td>\n",
       "      <td>1</td>\n",
       "      <td>Quirky, vulnerable, raw, honest and a treat to...</td>\n",
       "    </tr>\n",
       "    <tr>\n",
       "      <th>2999</th>\n",
       "      <td>2999</td>\n",
       "      <td>0</td>\n",
       "      <td>I was fooled to rent this movie by its impress...</td>\n",
       "    </tr>\n",
       "  </tbody>\n",
       "</table>\n",
       "<p>3000 rows × 3 columns</p>\n",
       "</div>"
      ],
      "text/plain": [
       "        id  label                                           sentence\n",
       "0        0      1  A wonderful little production. <br /><br />The...\n",
       "1        1      1  This a fantastic movie of three prisoners who ...\n",
       "2        2      1  Some films just simply should not be remade. T...\n",
       "3        3      1  Taut and organically gripping, Edward Dmytryk'...\n",
       "4        4      1  \"Ardh Satya\" is one of the finest film ever ma...\n",
       "...    ...    ...                                                ...\n",
       "2995  2995      1  This film starts out with all the moody promis...\n",
       "2996  2996      0  Naach would have won an Razzie for the Worst F...\n",
       "2997  2997      0  I won't describe the story, as that has been d...\n",
       "2998  2998      1  Quirky, vulnerable, raw, honest and a treat to...\n",
       "2999  2999      0  I was fooled to rent this movie by its impress...\n",
       "\n",
       "[3000 rows x 3 columns]"
      ]
     },
     "execution_count": 148,
     "metadata": {},
     "output_type": "execute_result"
    }
   ],
   "source": [
    "test_df_bert"
   ]
  },
  {
   "cell_type": "code",
   "execution_count": 149,
   "id": "63808a94",
   "metadata": {},
   "outputs": [],
   "source": [
    "# Get the lists of sentences and their labels.\n",
    "train_sentences = train_df_bert.sentence.values\n",
    "train_labels = train_df_bert.label.values"
   ]
  },
  {
   "cell_type": "code",
   "execution_count": 150,
   "id": "d94fac44",
   "metadata": {},
   "outputs": [],
   "source": [
    "# Get the lists of sentences and their labels.\n",
    "test_sentences = test_df_bert.sentence.values\n",
    "test_labels = test_df_bert.label.values"
   ]
  },
  {
   "cell_type": "code",
   "execution_count": 151,
   "id": "4b28d1e7",
   "metadata": {},
   "outputs": [
    {
     "name": "stdout",
     "output_type": "stream",
     "text": [
      "Loading BERT tokenizer...\n"
     ]
    }
   ],
   "source": [
    "from transformers import BertTokenizer\n",
    "\n",
    "# Load the BERT tokenizer.\n",
    "print('Loading BERT tokenizer...')\n",
    "tokenizer = BertTokenizer.from_pretrained('bert-base-uncased', do_lower_case=True)"
   ]
  },
  {
   "cell_type": "code",
   "execution_count": 152,
   "id": "fefb1412",
   "metadata": {},
   "outputs": [
    {
     "name": "stdout",
     "output_type": "stream",
     "text": [
      " Original:  John Knowles modern masterpiece, A Separate Peace, are one of many subtle, and subtly is the watch word, themes of love, hate, jealously, denial and regret. The 1972 version does attempt to address this style and what the book is - A love story with war looming in the background. <br /><br />The 2004 version does not use subtly at all but overtness in the portrayal of the story. What is staring you in the face when you read the novel - is a love story, and yes maybe it is arguable, a gay love story. In the novel and 1972 film version there are sexual undertones everywhere in the writings and dialog.In the 2004 Showtime film version these tensions were omitted and the actors were in there late twenties playing teenagers which caused for mature acting taking away from any tenderness or hesitation of innocence in youth.<br /><br />I did not like this remake for more reasons. The hair that broke the camels' back was that Phineas was given a surname on the letters he received from the draft boards! Finny is a character that does not have nor needs a last name. John Knowles did that intentionally.<br /><br />Though I accept the 1972 version the acting was at times a little amateurish, so what, it attempted to be sincere to the novel by shooting on location at Phillips Exeter Academy that The Devon Acedemy was based on; which also the writer John Knowles attended as a student.<br /><br />The directors and producers took all teenage Exeter students, with exception of Parker Stevenson whom attended The Brooks School, to play in a Paramount Film! Class act by preppies compared to this Canadian College shot, played with adult actors, politically correct, platonic version. No - Veto on this sham try again. The 1972 film version with John Heyl and Parker Stevenson was the real deal for A Separate Peace on the screen. The Showtime 2004 film made for cable version was not.\n",
      "Tokenized:  ['john', 'knowles', 'modern', 'masterpiece', ',', 'a', 'separate', 'peace', ',', 'are', 'one', 'of', 'many', 'subtle', ',', 'and', 'subtly', 'is', 'the', 'watch', 'word', ',', 'themes', 'of', 'love', ',', 'hate', ',', 'jealous', '##ly', ',', 'denial', 'and', 'regret', '.', 'the', '1972', 'version', 'does', 'attempt', 'to', 'address', 'this', 'style', 'and', 'what', 'the', 'book', 'is', '-', 'a', 'love', 'story', 'with', 'war', 'looming', 'in', 'the', 'background', '.', '<', 'br', '/', '>', '<', 'br', '/', '>', 'the', '2004', 'version', 'does', 'not', 'use', 'subtly', 'at', 'all', 'but', 'over', '##tness', 'in', 'the', 'portrayal', 'of', 'the', 'story', '.', 'what', 'is', 'staring', 'you', 'in', 'the', 'face', 'when', 'you', 'read', 'the', 'novel', '-', 'is', 'a', 'love', 'story', ',', 'and', 'yes', 'maybe', 'it', 'is', 'ar', '##gua', '##ble', ',', 'a', 'gay', 'love', 'story', '.', 'in', 'the', 'novel', 'and', '1972', 'film', 'version', 'there', 'are', 'sexual', 'under', '##tones', 'everywhere', 'in', 'the', 'writings', 'and', 'dial', '##og', '.', 'in', 'the', '2004', 'showtime', 'film', 'version', 'these', 'tensions', 'were', 'omitted', 'and', 'the', 'actors', 'were', 'in', 'there', 'late', 'twenties', 'playing', 'teenagers', 'which', 'caused', 'for', 'mature', 'acting', 'taking', 'away', 'from', 'any', 'tenderness', 'or', 'hesitation', 'of', 'innocence', 'in', 'youth', '.', '<', 'br', '/', '>', '<', 'br', '/', '>', 'i', 'did', 'not', 'like', 'this', 'remake', 'for', 'more', 'reasons', '.', 'the', 'hair', 'that', 'broke', 'the', 'camel', '##s', \"'\", 'back', 'was', 'that', 'phi', '##neas', 'was', 'given', 'a', 'surname', 'on', 'the', 'letters', 'he', 'received', 'from', 'the', 'draft', 'boards', '!', 'finn', '##y', 'is', 'a', 'character', 'that', 'does', 'not', 'have', 'nor', 'needs', 'a', 'last', 'name', '.', 'john', 'knowles', 'did', 'that', 'intentionally', '.', '<', 'br', '/', '>', '<', 'br', '/', '>', 'though', 'i', 'accept', 'the', '1972', 'version', 'the', 'acting', 'was', 'at', 'times', 'a', 'little', 'amateur', '##ish', ',', 'so', 'what', ',', 'it', 'attempted', 'to', 'be', 'sincere', 'to', 'the', 'novel', 'by', 'shooting', 'on', 'location', 'at', 'phillips', 'exeter', 'academy', 'that', 'the', 'devon', 'ace', '##de', '##my', 'was', 'based', 'on', ';', 'which', 'also', 'the', 'writer', 'john', 'knowles', 'attended', 'as', 'a', 'student', '.', '<', 'br', '/', '>', '<', 'br', '/', '>', 'the', 'directors', 'and', 'producers', 'took', 'all', 'teenage', 'exeter', 'students', ',', 'with', 'exception', 'of', 'parker', 'stevenson', 'whom', 'attended', 'the', 'brooks', 'school', ',', 'to', 'play', 'in', 'a', 'paramount', 'film', '!', 'class', 'act', 'by', 'prep', '##pies', 'compared', 'to', 'this', 'canadian', 'college', 'shot', ',', 'played', 'with', 'adult', 'actors', ',', 'politically', 'correct', ',', 'plato', '##nic', 'version', '.', 'no', '-', 'veto', 'on', 'this', 'sham', 'try', 'again', '.', 'the', '1972', 'film', 'version', 'with', 'john', 'hey', '##l', 'and', 'parker', 'stevenson', 'was', 'the', 'real', 'deal', 'for', 'a', 'separate', 'peace', 'on', 'the', 'screen', '.', 'the', 'showtime', '2004', 'film', 'made', 'for', 'cable', 'version', 'was', 'not', '.']\n",
      "Token IDs:  [2198, 22815, 2715, 17743, 1010, 1037, 3584, 3521, 1010, 2024, 2028, 1997, 2116, 11259, 1010, 1998, 28797, 2003, 1996, 3422, 2773, 1010, 6991, 1997, 2293, 1010, 5223, 1010, 9981, 2135, 1010, 14920, 1998, 9038, 1012, 1996, 3285, 2544, 2515, 3535, 2000, 4769, 2023, 2806, 1998, 2054, 1996, 2338, 2003, 1011, 1037, 2293, 2466, 2007, 2162, 23430, 1999, 1996, 4281, 1012, 1026, 7987, 1013, 1028, 1026, 7987, 1013, 1028, 1996, 2432, 2544, 2515, 2025, 2224, 28797, 2012, 2035, 2021, 2058, 27401, 1999, 1996, 13954, 1997, 1996, 2466, 1012, 2054, 2003, 4582, 2017, 1999, 1996, 2227, 2043, 2017, 3191, 1996, 3117, 1011, 2003, 1037, 2293, 2466, 1010, 1998, 2748, 2672, 2009, 2003, 12098, 19696, 3468, 1010, 1037, 5637, 2293, 2466, 1012, 1999, 1996, 3117, 1998, 3285, 2143, 2544, 2045, 2024, 4424, 2104, 11115, 7249, 1999, 1996, 7896, 1998, 13764, 8649, 1012, 1999, 1996, 2432, 23811, 2143, 2544, 2122, 13136, 2020, 16647, 1998, 1996, 5889, 2020, 1999, 2045, 2397, 18946, 2652, 12908, 2029, 3303, 2005, 9677, 3772, 2635, 2185, 2013, 2151, 24605, 2030, 13431, 1997, 12660, 1999, 3360, 1012, 1026, 7987, 1013, 1028, 1026, 7987, 1013, 1028, 1045, 2106, 2025, 2066, 2023, 12661, 2005, 2062, 4436, 1012, 1996, 2606, 2008, 3631, 1996, 19130, 2015, 1005, 2067, 2001, 2008, 13569, 26737, 2001, 2445, 1037, 11988, 2006, 1996, 4144, 2002, 2363, 2013, 1996, 4433, 7923, 999, 9303, 2100, 2003, 1037, 2839, 2008, 2515, 2025, 2031, 4496, 3791, 1037, 2197, 2171, 1012, 2198, 22815, 2106, 2008, 15734, 1012, 1026, 7987, 1013, 1028, 1026, 7987, 1013, 1028, 2295, 1045, 5138, 1996, 3285, 2544, 1996, 3772, 2001, 2012, 2335, 1037, 2210, 5515, 4509, 1010, 2061, 2054, 1010, 2009, 4692, 2000, 2022, 18006, 2000, 1996, 3117, 2011, 5008, 2006, 3295, 2012, 8109, 12869, 2914, 2008, 1996, 7614, 9078, 3207, 8029, 2001, 2241, 2006, 1025, 2029, 2036, 1996, 3213, 2198, 22815, 3230, 2004, 1037, 3076, 1012, 1026, 7987, 1013, 1028, 1026, 7987, 1013, 1028, 1996, 5501, 1998, 6443, 2165, 2035, 9454, 12869, 2493, 1010, 2007, 6453, 1997, 6262, 13636, 3183, 3230, 1996, 8379, 2082, 1010, 2000, 2377, 1999, 1037, 11734, 2143, 999, 2465, 2552, 2011, 17463, 13046, 4102, 2000, 2023, 3010, 2267, 2915, 1010, 2209, 2007, 4639, 5889, 1010, 10317, 6149, 1010, 18858, 8713, 2544, 1012, 2053, 1011, 22102, 2006, 2023, 25850, 3046, 2153, 1012, 1996, 3285, 2143, 2544, 2007, 2198, 4931, 2140, 1998, 6262, 13636, 2001, 1996, 2613, 3066, 2005, 1037, 3584, 3521, 2006, 1996, 3898, 1012, 1996, 23811, 2432, 2143, 2081, 2005, 5830, 2544, 2001, 2025, 1012]\n"
     ]
    }
   ],
   "source": [
    "# Print the original sentence.\n",
    "print(' Original: ', train_sentences[1])\n",
    "\n",
    "# Print the sentence split into tokens.\n",
    "print('Tokenized: ', tokenizer.tokenize(train_sentences[1]))\n",
    "\n",
    "# Print the sentence mapped to token ids.\n",
    "print('Token IDs: ', tokenizer.convert_tokens_to_ids(tokenizer.tokenize(train_sentences[1])))"
   ]
  },
  {
   "cell_type": "code",
   "execution_count": 153,
   "id": "b6908afb",
   "metadata": {},
   "outputs": [
    {
     "name": "stdout",
     "output_type": "stream",
     "text": [
      "Max sentence length:  231\n"
     ]
    }
   ],
   "source": [
    "import warnings\n",
    "warnings.filterwarnings('ignore')\n",
    "\n",
    "max_len_train = 0\n",
    "\n",
    "# For every sentence...\n",
    "for sent in train_sentences:\n",
    "    #sent=str(sent)\n",
    "\n",
    "    # Tokenize the text and add `[CLS]` and `[SEP]` tokens.\n",
    "    input_ids = tokenizer.encode(sent[:512], add_special_tokens=True)\n",
    "\n",
    "    # Update the maximum sentence length.\n",
    "    max_len_train = max(max_len_train, len(input_ids))\n",
    "\n",
    "print('Max sentence length: ', max_len_train)"
   ]
  },
  {
   "cell_type": "code",
   "execution_count": 154,
   "id": "64c5cf19",
   "metadata": {},
   "outputs": [
    {
     "name": "stdout",
     "output_type": "stream",
     "text": [
      "Max sentence length:  207\n"
     ]
    }
   ],
   "source": [
    "max_len_test = 0\n",
    "\n",
    "# For every sentence...\n",
    "for sent in test_sentences:\n",
    "    #sent=str(sent)\n",
    "\n",
    "    # Tokenize the text and add `[CLS]` and `[SEP]` tokens.\n",
    "    input_ids = tokenizer.encode(sent[:512], add_special_tokens=True)\n",
    "\n",
    "    # Update the maximum sentence length.\n",
    "    max_len_test = max(max_len_test, len(input_ids))\n",
    "\n",
    "print('Max sentence length: ', max_len_test)"
   ]
  },
  {
   "cell_type": "code",
   "execution_count": 155,
   "id": "1aede659",
   "metadata": {},
   "outputs": [
    {
     "name": "stdout",
     "output_type": "stream",
     "text": [
      "Original:  This is the most ludicrous and laughable thriller I've ever seen. Oh....where to start....<br /><br />Plot (what little there is): Clayton Beresford Jr. (Hayden Christensen), a young billionaire, with a bad heart is desperately in need of a transplant. Clay has been secretly engaged to his mother's PA, Samantha, played by Jessica Alba. On the night that these two secretly get married, it just so happens that a heart donor with the same rare blood type is found. Go and figure the odds of that one! Once on the operating table, Clay finds out the anesthesia isn't working, and he can feel everything and hear everything.<br /><br />Fortunately Clay seems to be able to filter out the pain of a razor sharp scalpel cutting open his chest by simply concentrating on his memories of Samantha, which we are told he's doing through an annoying voice-over which never seems to stop.<br /><br />If you didn't burst out in laughter yet, you will surely start to when you see the surgical scenes. <br /><br />How could a young billionaire agree to have a heart transplant performed by one surgeon, one nurse, an attending physician and an drunk anesthesiologist? There were more people in the room when my wisdom tooth was getting pulled. Not to mention the medical behavior, which is too preposterous to be taken seriously...the operating room isn't even kept sterile...people are practically able to just walk in and out of the room without even having washed up... During the operation the viewer gets to hear Clay's thoughts, none of which are too fascinating. Ah...but here's what it's all about ...the doctors are trying to kill him in order to take his money. Believing him to be unconscious, the villains speak freely. Gosh! What will happen? <br /><br />Well... at least there's no interference from anyone else in the hospital, while an incompetent doctor who's got four malpractice lawsuits running against him is performing major heart surgery. Not even Clay's overprotective mother seems to be able to check on his status. The only one interested in keeping updated is Samantha...but oh no...could sweet Sam be in on it....You'll quickly find out through some Scooby Doo dialog...<br /><br />In the end, it wouldn't even matter whether or not Clay underwent anesthesia awareness, because the end would have turned out the same way in both cases.<br /><br />If you can ignore the feeling that the director/writer is trying to make fun of the patients who fell victim to anesthesia awareness, maybe there's some dumb fun to be had...<br /><br />Enjoy...\n",
      "Token IDs: tensor([  101,  2023,  2003,  1996,  2087, 11320, 14808, 13288,  1998,  4756,\n",
      "         3085, 10874,  1045,  1005,  2310,  2412,  2464,  1012,  2821,  1012,\n",
      "         1012,  1012,  1012,  2073,  2000,  2707,  1012,  1012,  1012,  1012,\n",
      "         1026,  7987,  1013,  1028,  1026,  7987,  1013,  1028,  5436,  1006,\n",
      "         2054,  2210,  2045,  2003,  1007,  1024, 11811,  2022,  6072,  3877,\n",
      "         3781,  1012,  1006, 13872, 24189,  1007,  1010,  1037,  2402,   102])\n"
     ]
    }
   ],
   "source": [
    "# Tokenize all of the sentences and map the tokens to thier word IDs.\n",
    "input_ids = []\n",
    "attention_masks = []\n",
    "\n",
    "# For every sentence...\n",
    "for sent in train_sentences:\n",
    "    #sent=str(sent)\n",
    "    # `encode_plus` will:\n",
    "    #   (1) Tokenize the sentence.\n",
    "    #   (2) Prepend the `[CLS]` token to the start.\n",
    "    #   (3) Append the `[SEP]` token to the end.\n",
    "    #   (4) Map tokens to their IDs.\n",
    "    #   (5) Pad or truncate the sentence to `max_length`\n",
    "    #   (6) Create attention masks for [PAD] tokens.\n",
    "    encoded_dict = tokenizer.encode_plus(\n",
    "                        sent,                      # Sentence to encode.\n",
    "                        add_special_tokens = True, # Add '[CLS]' and '[SEP]'\n",
    "                        max_length = 60,           # Pad & truncate all sentences.\n",
    "                        pad_to_max_length = True,\n",
    "                        return_attention_mask = True,   # Construct attn. masks.\n",
    "                        return_tensors = 'pt',     # Return pytorch tensors.\n",
    "                        truncation=True\n",
    "                   )\n",
    "    \n",
    "    # Add the encoded sentence to the list.    \n",
    "    input_ids.append(encoded_dict['input_ids'])\n",
    "    \n",
    "    # And its attention mask (simply differentiates padding from non-padding).\n",
    "    attention_masks.append(encoded_dict['attention_mask'])\n",
    "\n",
    "# Convert the lists into tensors.\n",
    "input_ids = torch.cat(input_ids, dim=0)\n",
    "attention_masks = torch.cat(attention_masks, dim=0)\n",
    "labels = torch.tensor(train_labels)\n",
    "\n",
    "# Print sentence 0, now as a list of IDs.\n",
    "print('Original: ', train_sentences[0])\n",
    "print('Token IDs:', input_ids[0])"
   ]
  },
  {
   "cell_type": "code",
   "execution_count": 156,
   "id": "3fbe71f3",
   "metadata": {},
   "outputs": [
    {
     "data": {
      "text/html": [
       "<div>\n",
       "<style scoped>\n",
       "    .dataframe tbody tr th:only-of-type {\n",
       "        vertical-align: middle;\n",
       "    }\n",
       "\n",
       "    .dataframe tbody tr th {\n",
       "        vertical-align: top;\n",
       "    }\n",
       "\n",
       "    .dataframe thead th {\n",
       "        text-align: right;\n",
       "    }\n",
       "</style>\n",
       "<table border=\"1\" class=\"dataframe\">\n",
       "  <thead>\n",
       "    <tr style=\"text-align: right;\">\n",
       "      <th></th>\n",
       "      <th>id</th>\n",
       "      <th>label</th>\n",
       "      <th>sentence</th>\n",
       "    </tr>\n",
       "  </thead>\n",
       "  <tbody>\n",
       "    <tr>\n",
       "      <th>0</th>\n",
       "      <td>0</td>\n",
       "      <td>0</td>\n",
       "      <td>This is the most ludicrous and laughable thril...</td>\n",
       "    </tr>\n",
       "    <tr>\n",
       "      <th>1</th>\n",
       "      <td>1</td>\n",
       "      <td>0</td>\n",
       "      <td>John Knowles modern masterpiece, A Separate Pe...</td>\n",
       "    </tr>\n",
       "    <tr>\n",
       "      <th>2</th>\n",
       "      <td>2</td>\n",
       "      <td>1</td>\n",
       "      <td>I was literally preparing to hate this movie, ...</td>\n",
       "    </tr>\n",
       "    <tr>\n",
       "      <th>3</th>\n",
       "      <td>3</td>\n",
       "      <td>1</td>\n",
       "      <td>I really enjoyed this movie. Typically Ron How...</td>\n",
       "    </tr>\n",
       "    <tr>\n",
       "      <th>4</th>\n",
       "      <td>4</td>\n",
       "      <td>0</td>\n",
       "      <td>I found this movie to be preachy and unrealist...</td>\n",
       "    </tr>\n",
       "  </tbody>\n",
       "</table>\n",
       "</div>"
      ],
      "text/plain": [
       "   id  label                                           sentence\n",
       "0   0      0  This is the most ludicrous and laughable thril...\n",
       "1   1      0  John Knowles modern masterpiece, A Separate Pe...\n",
       "2   2      1  I was literally preparing to hate this movie, ...\n",
       "3   3      1  I really enjoyed this movie. Typically Ron How...\n",
       "4   4      0  I found this movie to be preachy and unrealist..."
      ]
     },
     "execution_count": 156,
     "metadata": {},
     "output_type": "execute_result"
    }
   ],
   "source": [
    "\n",
    "train_df_bert.head()"
   ]
  },
  {
   "cell_type": "code",
   "execution_count": 157,
   "id": "eaa44a96",
   "metadata": {},
   "outputs": [],
   "source": [
    "(x_train, y_train), (x_test, y_test) = (train_df_bert.sentence,train_df_bert.label),(test_df_bert.sentence,test_df_bert.label)"
   ]
  },
  {
   "cell_type": "code",
   "execution_count": 158,
   "id": "a8a6e7b1",
   "metadata": {},
   "outputs": [],
   "source": [
    "from keras.preprocessing.text import Tokenizer\n",
    "\n",
    "tokenizer = Tokenizer(num_words=5000)\n",
    "tokenizer.fit_on_texts(x_train)\n",
    "x_train = tokenizer.texts_to_sequences(x_train)\n",
    "x_test = tokenizer.texts_to_sequences(x_test)"
   ]
  },
  {
   "cell_type": "code",
   "execution_count": 159,
   "id": "0b69509e",
   "metadata": {},
   "outputs": [
    {
     "name": "stdout",
     "output_type": "stream",
     "text": [
      "Pad sequences (samples x time)\n",
      "X_train shape: (10000, 60)\n",
      "X_test shape: (3000, 60)\n"
     ]
    }
   ],
   "source": [
    "from keras_preprocessing.sequence import pad_sequences\n",
    "# 2 - Define the number of words to be used from a review (truncate and pad input sequences)\n",
    "print('Pad sequences (samples x time)')\n",
    "\n",
    "max_review_length = 60\n",
    "\n",
    "x_train = pad_sequences(x_train, maxlen=max_review_length)\n",
    "print('X_train shape:',x_train.shape)\n",
    "x_test = pad_sequences(x_test, maxlen=max_review_length)\n",
    "print('X_test shape:',x_test.shape)"
   ]
  },
  {
   "cell_type": "code",
   "execution_count": 160,
   "id": "28ed29af",
   "metadata": {},
   "outputs": [],
   "source": [
    "from keras import backend as K\n",
    "from tensorflow import keras\n",
    "import tensorflow as tf\n",
    "\n",
    "class FuzzyLayer(keras.layers.Layer):\n",
    "\n",
    "    def __init__(self, \n",
    "                 output_dim, \n",
    "                 initial_centers=None,\n",
    "                 initial_sigmas=None, \n",
    "                 **kwargs):\n",
    "        if 'input_shape' not in kwargs and 'input_dim' in kwargs:\n",
    "            kwargs['input_shape'] = (kwargs.pop('input_dim'),)\n",
    "        self.output_dim = output_dim\n",
    "        self.initial_centers = initial_centers\n",
    "        self.initial_sigmas = initial_sigmas\n",
    "        super(FuzzyLayer, self).__init__(**kwargs)\n",
    "\n",
    "    def build(self, input_shape):\n",
    "        self.input_dimensions = list(input_shape)[:-1:-1]\n",
    "\n",
    "        c_init_values =[]\n",
    "        \n",
    "        if self.initial_centers is None:\n",
    "            c_init_values= tf.random_uniform_initializer(-1, 1)(shape=(input_shape[-1], self.output_dim), dtype=\"float32\")    \n",
    "        else:\n",
    "            c_init_values =tf.convert_to_tensor(self.initial_centers, dtype=\"float32\")\n",
    "        self.c = tf.Variable(initial_value= c_init_values, trainable=True)\n",
    "\n",
    "        a_init_values = []\n",
    "        if self.initial_sigmas is None:\n",
    "            a_init_values = tf.ones_initializer()(shape=(input_shape[-1], self.output_dim), dtype=\"float32\")    \n",
    "        else:\n",
    "            a_init_values = tf.convert_to_tensor(self.initial_sigmas, dtype=\"float32\")\n",
    "        self.a = tf.Variable(initial_value= a_init_values, trainable=True)\n",
    "        super(FuzzyLayer, self).build(input_shape)  \n",
    "\n",
    "    def call(self, x):\n",
    "        \n",
    "        aligned_x = K.repeat_elements(K.expand_dims(x, axis = -1), self.output_dim, -1)\n",
    "        aligned_c = self.c\n",
    "        aligned_a = self.a\n",
    "        for dim in self.input_dimensions:\n",
    "            aligned_c = K.repeat_elements(K.expand_dims(aligned_c, 0), dim, 0)\n",
    "            aligned_a = K.repeat_elements(K.expand_dims(aligned_a, 0), dim, 0)\n",
    "\n",
    "        xc = K.exp(-K.sum(K.square((aligned_x - aligned_c) / (2 * aligned_a)), axis=-2, keepdims=False))\n",
    "        \n",
    "        return xc\n",
    "        \n",
    "    def compute_output_shape(self, input_shape):\n",
    "        return tuple(input_shape[:-1]) + (self.output_dim,)\n"
   ]
  },
  {
   "cell_type": "code",
   "execution_count": 161,
   "id": "f9e4fb43",
   "metadata": {},
   "outputs": [],
   "source": [
    "import tensorflow as tf\n",
    "from tensorflow import keras\n",
    "from keras import backend as K\n",
    "\n",
    "class DefuzzyLayer(keras.layers.Layer):\n",
    "\n",
    "    def __init__(self, \n",
    "                 output_dim, \n",
    "                 initial_rules_outcomes=None,\n",
    "                 **kwargs):\n",
    "        if 'input_shape' not in kwargs and 'input_dim' in kwargs:\n",
    "            kwargs['input_shape'] = (kwargs.pop('input_dim'),)\n",
    "        self.output_dim = output_dim\n",
    "        self.initial_rules_outcomes = initial_rules_outcomes\n",
    "        super(DefuzzyLayer, self).__init__(**kwargs)\n",
    "\n",
    "    def build(self, input_shape):\n",
    "        self.input_dimensions = list(input_shape)[:-1:-1]\n",
    "\n",
    "        outcomes_init_values = []\n",
    "        if self.initial_rules_outcomes is None:\n",
    "            outcomes_init_values = tf.random_uniform_initializer()(shape=(input_shape[-1], self.output_dim), dtype=\"float32\")    \n",
    "        else:\n",
    "            outcomes_init_values = tf.convert_to_tensor(self.initial_rules_outcomes, dtype=\"float32\")\n",
    "        \n",
    "        self.rules_outcome = tf.Variable(initial_value = outcomes_init_values, trainable=True)\n",
    "        \n",
    "        super(DefuzzyLayer, self).build(input_shape)  \n",
    "\n",
    "    def call(self, x):\n",
    "        aligned_x = K.repeat_elements(K.expand_dims(x, axis = -1), self.output_dim, -1)\n",
    "        aligned_rules_outcome = self.rules_outcome\n",
    "        for dim in self.input_dimensions:\n",
    "            aligned_rules_outcome = K.repeat_elements(K.expand_dims(aligned_rules_outcome, 0), dim, 0)\n",
    "        \n",
    "        xc = K.sum((aligned_x * aligned_rules_outcome), axis=-2, keepdims=False)\n",
    "        return xc\n",
    "        \n",
    "    def compute_output_shape(self, input_shape):\n",
    "        return tuple(input_shape[:-1]) + (self.output_dim,)\n",
    "    \n",
    "    def get_config(self):\n",
    "        return {\"rules_outcome\": self.rules_outcome.numpy()}\n"
   ]
  },
  {
   "cell_type": "code",
   "execution_count": 162,
   "id": "619c36e6",
   "metadata": {},
   "outputs": [
    {
     "name": "stdout",
     "output_type": "stream",
     "text": [
      "Building model\n",
      "Model: \"sequential_9\"\n",
      "_________________________________________________________________\n",
      "Layer (type)                 Output Shape              Param #   \n",
      "=================================================================\n",
      "embedding_9 (Embedding)      (None, 60, 32)            64000     \n",
      "_________________________________________________________________\n",
      "conv1d_27 (Conv1D)           (None, 60, 32)            5152      \n",
      "_________________________________________________________________\n",
      "dropout_63 (Dropout)         (None, 60, 32)            0         \n",
      "_________________________________________________________________\n",
      "conv1d_28 (Conv1D)           (None, 60, 32)            4128      \n",
      "_________________________________________________________________\n",
      "dropout_64 (Dropout)         (None, 60, 32)            0         \n",
      "_________________________________________________________________\n",
      "conv1d_29 (Conv1D)           (None, 60, 32)            3104      \n",
      "_________________________________________________________________\n",
      "dropout_65 (Dropout)         (None, 60, 32)            0         \n",
      "_________________________________________________________________\n",
      "max_pooling1d_9 (MaxPooling1 (None, 30, 32)            0         \n",
      "_________________________________________________________________\n",
      "dropout_66 (Dropout)         (None, 30, 32)            0         \n",
      "_________________________________________________________________\n",
      "bidirectional_9 (Bidirection (None, 60)                15120     \n",
      "_________________________________________________________________\n",
      "dropout_67 (Dropout)         (None, 60)                0         \n",
      "_________________________________________________________________\n",
      "fuzzy_layer_9 (FuzzyLayer)   (None, 20)                2400      \n",
      "_________________________________________________________________\n",
      "dropout_68 (Dropout)         (None, 20)                0         \n",
      "_________________________________________________________________\n",
      "defuzzy_layer_9 (DefuzzyLaye (None, 10)                200       \n",
      "_________________________________________________________________\n",
      "dropout_69 (Dropout)         (None, 10)                0         \n",
      "_________________________________________________________________\n",
      "dense_9 (Dense)              (None, 1)                 11        \n",
      "=================================================================\n",
      "Total params: 94,115\n",
      "Trainable params: 94,115\n",
      "Non-trainable params: 0\n",
      "_________________________________________________________________\n"
     ]
    }
   ],
   "source": [
    "\n",
    "import tensorflow\n",
    "from keras.models import Sequential\n",
    "from keras.layers import Dense,Dropout,Activation, Flatten\n",
    "from keras.layers import LSTM\n",
    "from tensorflow.keras.layers import Bidirectional\n",
    "from keras.layers import Conv1D\n",
    "from keras.layers import GlobalMaxPooling1D,MaxPooling1D\n",
    "from keras.layers import Embedding\n",
    "import matplotlib.pyplot as plt\n",
    "#from FuzzyLayer import FuzzyLayer\n",
    "#from DefuzzyLayer import DefuzzyLayer\n",
    "\n",
    "# 3 - Neural network model design\n",
    "print('Building model')\n",
    "max_features = 2000\n",
    "embedding_vector_length = 32\n",
    "filters = 32\n",
    "kernel_size = 3\n",
    "hidden_dims = 40\n",
    "\n",
    "model = Sequential()\n",
    "model.add(Embedding(max_features, embedding_vector_length, input_length=max_review_length))\n",
    "\n",
    "model.add(Conv1D(filters=32, kernel_size=5, padding='same', activation='relu',))\n",
    "model.add(Dropout(0.1))\n",
    "model.add(Conv1D(filters=32, kernel_size=4, padding='same', activation='relu'))\n",
    "model.add(Dropout(0.1))\n",
    "model.add(Conv1D(filters=32, kernel_size=3, padding='same', activation='relu'))\n",
    "model.add(Dropout(0.1))\n",
    "model.add(MaxPooling1D(pool_size=2))\n",
    "model.add(Dropout(0.1))\n",
    "model.add(Bidirectional(LSTM(30,activation='tanh',\n",
    "                             recurrent_activation='sigmoid',\n",
    "                             return_state=False,\n",
    "                             return_sequences=False)))\n",
    "\n",
    "model.add(Dropout(0.1))\n",
    "model.add(FuzzyLayer(20, input_dim=2))\n",
    "model.add(Dropout(0.1))\n",
    "model.add(DefuzzyLayer(10))\n",
    "model.add(Dropout(0.1))\n",
    "model.add(Dense(1, activation='sigmoid'))\n",
    "model.compile(loss='binary_crossentropy',optimizer='adam', metrics=['accuracy'])\n",
    "\n",
    "model.summary()\n"
   ]
  },
  {
   "cell_type": "code",
   "execution_count": 163,
   "id": "f3da6015",
   "metadata": {},
   "outputs": [
    {
     "data": {
      "image/png": "[encoded data removed]",
      "text/plain": [
       "<IPython.core.display.Image object>"
      ]
     },
     "execution_count": 163,
     "metadata": {},
     "output_type": "execute_result"
    }
   ],
   "source": [
    "import os\n",
    "os.environ[\"PATH\"] += os.pathsep + 'C:/Program Files/Graphviz/bin'\n",
    "tf.keras.utils.plot_model(model, show_shapes=True, dpi=64)"
   ]
  },
  {
   "cell_type": "code",
   "execution_count": 164,
   "id": "65c2c075",
   "metadata": {},
   "outputs": [
    {
     "name": "stdout",
     "output_type": "stream",
     "text": [
      "Epoch 1/20\n",
      "900/900 [==============================] - 14s 13ms/step - loss: 0.6298 - accuracy: 0.6111 - val_loss: 0.5320 - val_accuracy: 0.7410\n",
      "Epoch 2/20\n",
      "900/900 [==============================] - 12s 13ms/step - loss: 0.4359 - accuracy: 0.8030 - val_loss: 0.4465 - val_accuracy: 0.7910\n",
      "Epoch 3/20\n",
      "900/900 [==============================] - 11s 13ms/step - loss: 0.3507 - accuracy: 0.8572 - val_loss: 0.4754 - val_accuracy: 0.7930\n",
      "Epoch 4/20\n",
      "900/900 [==============================] - 12s 13ms/step - loss: 0.2997 - accuracy: 0.8774 - val_loss: 0.5025 - val_accuracy: 0.7880\n",
      "Epoch 5/20\n",
      "900/900 [==============================] - 12s 13ms/step - loss: 0.2454 - accuracy: 0.9049 - val_loss: 0.5258 - val_accuracy: 0.8020\n",
      "313/313 [==============================] - 3s 6ms/step - loss: 0.2032 - accuracy: 0.9309\n",
      "Training Accuracy: 0.930900\n",
      "Training Loss: 0.203246\n",
      "94/94 [==============================] - 1s 6ms/step - loss: 0.5057 - accuracy: 0.8020\n",
      "Testing Accuracy:  0.802000\n",
      "Testing Loss:  0.505657\n"
     ]
    }
   ],
   "source": [
    "import numpy\n",
    "es_callback = keras.callbacks.EarlyStopping(monitor='val_loss', patience=3)\n",
    "\n",
    "# 4 - Train the neural network model\n",
    "history = model.fit(x_train, y_train,\n",
    "                    epochs=20,\n",
    "                    verbose=True,\n",
    "                    callbacks=[es_callback],\n",
    "                    #validation_data=(x_test, y_test),\n",
    "                    validation_split=0.1,\n",
    "                    batch_size=10)\n",
    "\n",
    "loss, accuracy = model.evaluate(x_train, y_train, verbose=True)\n",
    "print(\"Training Accuracy: {:.6f}\".format(accuracy))\n",
    "print(\"Training Loss: {:.6f}\".format(loss))\n",
    "loss, accuracy = model.evaluate(x_test, y_test, verbose=True)\n",
    "print(\"Testing Accuracy:  {:.6f}\".format(accuracy))\n",
    "print(\"Testing Loss:  {:.6f}\".format(loss))\n"
   ]
  },
  {
   "cell_type": "code",
   "execution_count": 165,
   "id": "9f8a9517",
   "metadata": {},
   "outputs": [
    {
     "data": {
      "image/png": "[encoded data removed]",
      "text/plain": [
       "<Figure size 1200x500 with 2 Axes>"
      ]
     },
     "metadata": {},
     "output_type": "display_data"
    },
    {
     "data": {
      "image/png": "[encoded data removed]",
      "text/plain": [
       "<Figure size 640x480 with 2 Axes>"
      ]
     },
     "metadata": {},
     "output_type": "display_data"
    }
   ],
   "source": [
    "import matplotlib.pyplot as plt\n",
    "#% matplotlib inline\n",
    "\n",
    "acc = history.history['accuracy']\n",
    "val_acc = history.history['val_accuracy']\n",
    "loss = history.history['loss']\n",
    "val_loss = history.history['val_loss']\n",
    "x = range(1, len(acc) + 1)\n",
    "\n",
    "plt.figure(figsize=(12, 5))\n",
    "plt.subplot(1, 2, 1)\n",
    "plt.plot(x, acc, 'b', label='Training acc')\n",
    "plt.plot(x, val_acc, 'r', label='Validation acc')\n",
    "plt.title('Training and validation accuracy')\n",
    "plt.legend()\n",
    "plt.subplot(1, 2, 2)\n",
    "plt.plot(x, loss, 'b', label='Training loss')\n",
    "plt.plot(x, val_loss, 'r', label='Validation loss')\n",
    "plt.title('Training and validation loss')\n",
    "plt.legend()\n",
    "\n",
    "plt.show()\n",
    "\n",
    "plt.subplot(211)\n",
    "plt.title('Loss')\n",
    "plt.plot(history.history['loss'], label='train')\n",
    "plt.plot(history.history['val_loss'], label='test')\n",
    "plt.legend()\n",
    "\n",
    "plt.subplot(212)\n",
    "plt.title('Accuracy')\n",
    "plt.plot(history.history['accuracy'], label='train')\n",
    "plt.plot(history.history['val_accuracy'], label='test')\n",
    "plt.legend()\n",
    "plt.show()"
   ]
  },
  {
   "cell_type": "code",
   "execution_count": null,
   "id": "b49537e9-6f32-42eb-92b2-dc000096639e",
   "metadata": {},
   "outputs": [],
   "source": []
  }
 ],
 "metadata": {
  "kernelspec": {
   "display_name": "Python 3 (ipykernel)",
   "language": "python",
   "name": "python3"
  },
  "language_info": {
   "codemirror_mode": {
    "name": "ipython",
    "version": 3
   },
   "file_extension": ".py",
   "mimetype": "text/x-python",
   "name": "python",
   "nbconvert_exporter": "python",
   "pygments_lexer": "ipython3",
   "version": "3.9.18"
  }
 },
 "nbformat": 4,
 "nbformat_minor": 5
}
